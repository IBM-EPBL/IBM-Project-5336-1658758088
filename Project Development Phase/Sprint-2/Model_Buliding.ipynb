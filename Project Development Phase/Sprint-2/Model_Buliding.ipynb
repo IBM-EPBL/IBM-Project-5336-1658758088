{
  "nbformat": 4,
  "nbformat_minor": 0,
  "metadata": {
    "colab": {
      "provenance": [],
      "collapsed_sections": []
    },
    "kernelspec": {
      "name": "python3",
      "display_name": "Python 3"
    },
    "language_info": {
      "name": "python"
    }
  },
  "cells": [
    {
      "cell_type": "code",
      "execution_count": null,
      "metadata": {
        "id": "CiEdoIhdmPAt"
      },
      "outputs": [],
      "source": [
        "import numpy as np\n",
        "import pandas as pd\n",
        "import seaborn as sns\n",
        "import matplotlib.pyplot as plt\n",
        "import random"
      ]
    },
    {
      "cell_type": "code",
      "source": [
        "df = pd.read_csv('/content/dataset_website.csv')"
      ],
      "metadata": {
        "id": "oWVKFl5uma2b"
      },
      "execution_count": null,
      "outputs": []
    },
    {
      "cell_type": "code",
      "source": [
        "df.head()"
      ],
      "metadata": {
        "colab": {
          "base_uri": "https://localhost:8080/",
          "height": 299
        },
        "id": "mvd-nQIAmoGD",
        "outputId": "2b60f69b-7e4c-4896-a797-4bb058556038"
      },
      "execution_count": null,
      "outputs": [
        {
          "output_type": "execute_result",
          "data": {
            "text/plain": [
              "   index  having_IPhaving_IP_Address  URLURL_Length  Shortining_Service  \\\n",
              "0      1                          -1              1                   1   \n",
              "1      2                           1              1                   1   \n",
              "2      3                           1              0                   1   \n",
              "3      4                           1              0                   1   \n",
              "4      5                           1              0                  -1   \n",
              "\n",
              "   having_At_Symbol  double_slash_redirecting  Prefix_Suffix  \\\n",
              "0                 1                        -1             -1   \n",
              "1                 1                         1             -1   \n",
              "2                 1                         1             -1   \n",
              "3                 1                         1             -1   \n",
              "4                 1                         1             -1   \n",
              "\n",
              "   having_Sub_Domain  SSLfinal_State  Domain_registeration_length  ...  \\\n",
              "0                 -1              -1                           -1  ...   \n",
              "1                  0               1                           -1  ...   \n",
              "2                 -1              -1                           -1  ...   \n",
              "3                 -1              -1                            1  ...   \n",
              "4                  1               1                           -1  ...   \n",
              "\n",
              "   popUpWidnow  Iframe  age_of_domain  DNSRecord  web_traffic  Page_Rank  \\\n",
              "0            1       1             -1         -1           -1         -1   \n",
              "1            1       1             -1         -1            0         -1   \n",
              "2            1       1              1         -1            1         -1   \n",
              "3            1       1             -1         -1            1         -1   \n",
              "4           -1       1             -1         -1            0         -1   \n",
              "\n",
              "   Google_Index  Links_pointing_to_page  Statistical_report  Result  \n",
              "0             1                       1                  -1      -1  \n",
              "1             1                       1                   1      -1  \n",
              "2             1                       0                  -1      -1  \n",
              "3             1                      -1                   1      -1  \n",
              "4             1                       1                   1       1  \n",
              "\n",
              "[5 rows x 32 columns]"
            ],
            "text/html": [
              "\n",
              "  <div id=\"df-991febe4-58cd-4458-b627-08b6b4c193d6\">\n",
              "    <div class=\"colab-df-container\">\n",
              "      <div>\n",
              "<style scoped>\n",
              "    .dataframe tbody tr th:only-of-type {\n",
              "        vertical-align: middle;\n",
              "    }\n",
              "\n",
              "    .dataframe tbody tr th {\n",
              "        vertical-align: top;\n",
              "    }\n",
              "\n",
              "    .dataframe thead th {\n",
              "        text-align: right;\n",
              "    }\n",
              "</style>\n",
              "<table border=\"1\" class=\"dataframe\">\n",
              "  <thead>\n",
              "    <tr style=\"text-align: right;\">\n",
              "      <th></th>\n",
              "      <th>index</th>\n",
              "      <th>having_IPhaving_IP_Address</th>\n",
              "      <th>URLURL_Length</th>\n",
              "      <th>Shortining_Service</th>\n",
              "      <th>having_At_Symbol</th>\n",
              "      <th>double_slash_redirecting</th>\n",
              "      <th>Prefix_Suffix</th>\n",
              "      <th>having_Sub_Domain</th>\n",
              "      <th>SSLfinal_State</th>\n",
              "      <th>Domain_registeration_length</th>\n",
              "      <th>...</th>\n",
              "      <th>popUpWidnow</th>\n",
              "      <th>Iframe</th>\n",
              "      <th>age_of_domain</th>\n",
              "      <th>DNSRecord</th>\n",
              "      <th>web_traffic</th>\n",
              "      <th>Page_Rank</th>\n",
              "      <th>Google_Index</th>\n",
              "      <th>Links_pointing_to_page</th>\n",
              "      <th>Statistical_report</th>\n",
              "      <th>Result</th>\n",
              "    </tr>\n",
              "  </thead>\n",
              "  <tbody>\n",
              "    <tr>\n",
              "      <th>0</th>\n",
              "      <td>1</td>\n",
              "      <td>-1</td>\n",
              "      <td>1</td>\n",
              "      <td>1</td>\n",
              "      <td>1</td>\n",
              "      <td>-1</td>\n",
              "      <td>-1</td>\n",
              "      <td>-1</td>\n",
              "      <td>-1</td>\n",
              "      <td>-1</td>\n",
              "      <td>...</td>\n",
              "      <td>1</td>\n",
              "      <td>1</td>\n",
              "      <td>-1</td>\n",
              "      <td>-1</td>\n",
              "      <td>-1</td>\n",
              "      <td>-1</td>\n",
              "      <td>1</td>\n",
              "      <td>1</td>\n",
              "      <td>-1</td>\n",
              "      <td>-1</td>\n",
              "    </tr>\n",
              "    <tr>\n",
              "      <th>1</th>\n",
              "      <td>2</td>\n",
              "      <td>1</td>\n",
              "      <td>1</td>\n",
              "      <td>1</td>\n",
              "      <td>1</td>\n",
              "      <td>1</td>\n",
              "      <td>-1</td>\n",
              "      <td>0</td>\n",
              "      <td>1</td>\n",
              "      <td>-1</td>\n",
              "      <td>...</td>\n",
              "      <td>1</td>\n",
              "      <td>1</td>\n",
              "      <td>-1</td>\n",
              "      <td>-1</td>\n",
              "      <td>0</td>\n",
              "      <td>-1</td>\n",
              "      <td>1</td>\n",
              "      <td>1</td>\n",
              "      <td>1</td>\n",
              "      <td>-1</td>\n",
              "    </tr>\n",
              "    <tr>\n",
              "      <th>2</th>\n",
              "      <td>3</td>\n",
              "      <td>1</td>\n",
              "      <td>0</td>\n",
              "      <td>1</td>\n",
              "      <td>1</td>\n",
              "      <td>1</td>\n",
              "      <td>-1</td>\n",
              "      <td>-1</td>\n",
              "      <td>-1</td>\n",
              "      <td>-1</td>\n",
              "      <td>...</td>\n",
              "      <td>1</td>\n",
              "      <td>1</td>\n",
              "      <td>1</td>\n",
              "      <td>-1</td>\n",
              "      <td>1</td>\n",
              "      <td>-1</td>\n",
              "      <td>1</td>\n",
              "      <td>0</td>\n",
              "      <td>-1</td>\n",
              "      <td>-1</td>\n",
              "    </tr>\n",
              "    <tr>\n",
              "      <th>3</th>\n",
              "      <td>4</td>\n",
              "      <td>1</td>\n",
              "      <td>0</td>\n",
              "      <td>1</td>\n",
              "      <td>1</td>\n",
              "      <td>1</td>\n",
              "      <td>-1</td>\n",
              "      <td>-1</td>\n",
              "      <td>-1</td>\n",
              "      <td>1</td>\n",
              "      <td>...</td>\n",
              "      <td>1</td>\n",
              "      <td>1</td>\n",
              "      <td>-1</td>\n",
              "      <td>-1</td>\n",
              "      <td>1</td>\n",
              "      <td>-1</td>\n",
              "      <td>1</td>\n",
              "      <td>-1</td>\n",
              "      <td>1</td>\n",
              "      <td>-1</td>\n",
              "    </tr>\n",
              "    <tr>\n",
              "      <th>4</th>\n",
              "      <td>5</td>\n",
              "      <td>1</td>\n",
              "      <td>0</td>\n",
              "      <td>-1</td>\n",
              "      <td>1</td>\n",
              "      <td>1</td>\n",
              "      <td>-1</td>\n",
              "      <td>1</td>\n",
              "      <td>1</td>\n",
              "      <td>-1</td>\n",
              "      <td>...</td>\n",
              "      <td>-1</td>\n",
              "      <td>1</td>\n",
              "      <td>-1</td>\n",
              "      <td>-1</td>\n",
              "      <td>0</td>\n",
              "      <td>-1</td>\n",
              "      <td>1</td>\n",
              "      <td>1</td>\n",
              "      <td>1</td>\n",
              "      <td>1</td>\n",
              "    </tr>\n",
              "  </tbody>\n",
              "</table>\n",
              "<p>5 rows × 32 columns</p>\n",
              "</div>\n",
              "      <button class=\"colab-df-convert\" onclick=\"convertToInteractive('df-991febe4-58cd-4458-b627-08b6b4c193d6')\"\n",
              "              title=\"Convert this dataframe to an interactive table.\"\n",
              "              style=\"display:none;\">\n",
              "        \n",
              "  <svg xmlns=\"http://www.w3.org/2000/svg\" height=\"24px\"viewBox=\"0 0 24 24\"\n",
              "       width=\"24px\">\n",
              "    <path d=\"M0 0h24v24H0V0z\" fill=\"none\"/>\n",
              "    <path d=\"M18.56 5.44l.94 2.06.94-2.06 2.06-.94-2.06-.94-.94-2.06-.94 2.06-2.06.94zm-11 1L8.5 8.5l.94-2.06 2.06-.94-2.06-.94L8.5 2.5l-.94 2.06-2.06.94zm10 10l.94 2.06.94-2.06 2.06-.94-2.06-.94-.94-2.06-.94 2.06-2.06.94z\"/><path d=\"M17.41 7.96l-1.37-1.37c-.4-.4-.92-.59-1.43-.59-.52 0-1.04.2-1.43.59L10.3 9.45l-7.72 7.72c-.78.78-.78 2.05 0 2.83L4 21.41c.39.39.9.59 1.41.59.51 0 1.02-.2 1.41-.59l7.78-7.78 2.81-2.81c.8-.78.8-2.07 0-2.86zM5.41 20L4 18.59l7.72-7.72 1.47 1.35L5.41 20z\"/>\n",
              "  </svg>\n",
              "      </button>\n",
              "      \n",
              "  <style>\n",
              "    .colab-df-container {\n",
              "      display:flex;\n",
              "      flex-wrap:wrap;\n",
              "      gap: 12px;\n",
              "    }\n",
              "\n",
              "    .colab-df-convert {\n",
              "      background-color: #E8F0FE;\n",
              "      border: none;\n",
              "      border-radius: 50%;\n",
              "      cursor: pointer;\n",
              "      display: none;\n",
              "      fill: #1967D2;\n",
              "      height: 32px;\n",
              "      padding: 0 0 0 0;\n",
              "      width: 32px;\n",
              "    }\n",
              "\n",
              "    .colab-df-convert:hover {\n",
              "      background-color: #E2EBFA;\n",
              "      box-shadow: 0px 1px 2px rgba(60, 64, 67, 0.3), 0px 1px 3px 1px rgba(60, 64, 67, 0.15);\n",
              "      fill: #174EA6;\n",
              "    }\n",
              "\n",
              "    [theme=dark] .colab-df-convert {\n",
              "      background-color: #3B4455;\n",
              "      fill: #D2E3FC;\n",
              "    }\n",
              "\n",
              "    [theme=dark] .colab-df-convert:hover {\n",
              "      background-color: #434B5C;\n",
              "      box-shadow: 0px 1px 3px 1px rgba(0, 0, 0, 0.15);\n",
              "      filter: drop-shadow(0px 1px 2px rgba(0, 0, 0, 0.3));\n",
              "      fill: #FFFFFF;\n",
              "    }\n",
              "  </style>\n",
              "\n",
              "      <script>\n",
              "        const buttonEl =\n",
              "          document.querySelector('#df-991febe4-58cd-4458-b627-08b6b4c193d6 button.colab-df-convert');\n",
              "        buttonEl.style.display =\n",
              "          google.colab.kernel.accessAllowed ? 'block' : 'none';\n",
              "\n",
              "        async function convertToInteractive(key) {\n",
              "          const element = document.querySelector('#df-991febe4-58cd-4458-b627-08b6b4c193d6');\n",
              "          const dataTable =\n",
              "            await google.colab.kernel.invokeFunction('convertToInteractive',\n",
              "                                                     [key], {});\n",
              "          if (!dataTable) return;\n",
              "\n",
              "          const docLinkHtml = 'Like what you see? Visit the ' +\n",
              "            '<a target=\"_blank\" href=https://colab.research.google.com/notebooks/data_table.ipynb>data table notebook</a>'\n",
              "            + ' to learn more about interactive tables.';\n",
              "          element.innerHTML = '';\n",
              "          dataTable['output_type'] = 'display_data';\n",
              "          await google.colab.output.renderOutput(dataTable, element);\n",
              "          const docLink = document.createElement('div');\n",
              "          docLink.innerHTML = docLinkHtml;\n",
              "          element.appendChild(docLink);\n",
              "        }\n",
              "      </script>\n",
              "    </div>\n",
              "  </div>\n",
              "  "
            ]
          },
          "metadata": {},
          "execution_count": 13
        }
      ]
    },
    {
      "cell_type": "code",
      "source": [
        "sns.heatmap(df[0:120].isnull(), cmap= 'viridis')\n",
        "plt.savefig('heatmap.png')"
      ],
      "metadata": {
        "colab": {
          "base_uri": "https://localhost:8080/",
          "height": 351
        },
        "id": "bhlwdrg5mtpY",
        "outputId": "cd8c4128-9405-4cc4-f931-d5dadb8d7720"
      },
      "execution_count": null,
      "outputs": [
        {
          "output_type": "display_data",
          "data": {
            "text/plain": [
              "<Figure size 432x288 with 2 Axes>"
            ],
            "image/png": "[encoded data removed]"
          },
          "metadata": {
            "needs_background": "light"
          }
        }
      ]
    },
    {
      "cell_type": "code",
      "source": [
        "df.describe()"
      ],
      "metadata": {
        "colab": {
          "base_uri": "https://localhost:8080/",
          "height": 394
        },
        "id": "t2Mwf9fFqdrj",
        "outputId": "5a4d66fb-2c17-405a-8c2e-0ba1c6b850d3"
      },
      "execution_count": null,
      "outputs": [
        {
          "output_type": "execute_result",
          "data": {
            "text/plain": [
              "              index  having_IPhaving_IP_Address  URLURL_Length  \\\n",
              "count  11055.000000                11055.000000   11055.000000   \n",
              "mean    5528.000000                    0.313795      -0.633198   \n",
              "std     3191.447947                    0.949534       0.766095   \n",
              "min        1.000000                   -1.000000      -1.000000   \n",
              "25%     2764.500000                   -1.000000      -1.000000   \n",
              "50%     5528.000000                    1.000000      -1.000000   \n",
              "75%     8291.500000                    1.000000      -1.000000   \n",
              "max    11055.000000                    1.000000       1.000000   \n",
              "\n",
              "       Shortining_Service  having_At_Symbol  double_slash_redirecting  \\\n",
              "count        11055.000000      11055.000000              11055.000000   \n",
              "mean             0.738761          0.700588                  0.741474   \n",
              "std              0.673998          0.713598                  0.671011   \n",
              "min             -1.000000         -1.000000                 -1.000000   \n",
              "25%              1.000000          1.000000                  1.000000   \n",
              "50%              1.000000          1.000000                  1.000000   \n",
              "75%              1.000000          1.000000                  1.000000   \n",
              "max              1.000000          1.000000                  1.000000   \n",
              "\n",
              "       Prefix_Suffix  having_Sub_Domain  SSLfinal_State  \\\n",
              "count   11055.000000       11055.000000    11055.000000   \n",
              "mean       -0.734962           0.063953        0.250927   \n",
              "std         0.678139           0.817518        0.911892   \n",
              "min        -1.000000          -1.000000       -1.000000   \n",
              "25%        -1.000000          -1.000000       -1.000000   \n",
              "50%        -1.000000           0.000000        1.000000   \n",
              "75%        -1.000000           1.000000        1.000000   \n",
              "max         1.000000           1.000000        1.000000   \n",
              "\n",
              "       Domain_registeration_length  ...   popUpWidnow        Iframe  \\\n",
              "count                 11055.000000  ...  11055.000000  11055.000000   \n",
              "mean                     -0.336771  ...      0.613388      0.816915   \n",
              "std                       0.941629  ...      0.789818      0.576784   \n",
              "min                      -1.000000  ...     -1.000000     -1.000000   \n",
              "25%                      -1.000000  ...      1.000000      1.000000   \n",
              "50%                      -1.000000  ...      1.000000      1.000000   \n",
              "75%                       1.000000  ...      1.000000      1.000000   \n",
              "max                       1.000000  ...      1.000000      1.000000   \n",
              "\n",
              "       age_of_domain     DNSRecord   web_traffic     Page_Rank  Google_Index  \\\n",
              "count   11055.000000  11055.000000  11055.000000  11055.000000  11055.000000   \n",
              "mean        0.061239      0.377114      0.287291     -0.483673      0.721574   \n",
              "std         0.998168      0.926209      0.827733      0.875289      0.692369   \n",
              "min        -1.000000     -1.000000     -1.000000     -1.000000     -1.000000   \n",
              "25%        -1.000000     -1.000000      0.000000     -1.000000      1.000000   \n",
              "50%         1.000000      1.000000      1.000000     -1.000000      1.000000   \n",
              "75%         1.000000      1.000000      1.000000      1.000000      1.000000   \n",
              "max         1.000000      1.000000      1.000000      1.000000      1.000000   \n",
              "\n",
              "       Links_pointing_to_page  Statistical_report        Result  \n",
              "count            11055.000000        11055.000000  11055.000000  \n",
              "mean                 0.344007            0.719584      0.113885  \n",
              "std                  0.569944            0.694437      0.993539  \n",
              "min                 -1.000000           -1.000000     -1.000000  \n",
              "25%                  0.000000            1.000000     -1.000000  \n",
              "50%                  0.000000            1.000000      1.000000  \n",
              "75%                  1.000000            1.000000      1.000000  \n",
              "max                  1.000000            1.000000      1.000000  \n",
              "\n",
              "[8 rows x 32 columns]"
            ],
            "text/html": [
              "\n",
              "  <div id=\"df-ecafd492-af7f-4985-865a-f7719a1fb7d1\">\n",
              "    <div class=\"colab-df-container\">\n",
              "      <div>\n",
              "<style scoped>\n",
              "    .dataframe tbody tr th:only-of-type {\n",
              "        vertical-align: middle;\n",
              "    }\n",
              "\n",
              "    .dataframe tbody tr th {\n",
              "        vertical-align: top;\n",
              "    }\n",
              "\n",
              "    .dataframe thead th {\n",
              "        text-align: right;\n",
              "    }\n",
              "</style>\n",
              "<table border=\"1\" class=\"dataframe\">\n",
              "  <thead>\n",
              "    <tr style=\"text-align: right;\">\n",
              "      <th></th>\n",
              "      <th>index</th>\n",
              "      <th>having_IPhaving_IP_Address</th>\n",
              "      <th>URLURL_Length</th>\n",
              "      <th>Shortining_Service</th>\n",
              "      <th>having_At_Symbol</th>\n",
              "      <th>double_slash_redirecting</th>\n",
              "      <th>Prefix_Suffix</th>\n",
              "      <th>having_Sub_Domain</th>\n",
              "      <th>SSLfinal_State</th>\n",
              "      <th>Domain_registeration_length</th>\n",
              "      <th>...</th>\n",
              "      <th>popUpWidnow</th>\n",
              "      <th>Iframe</th>\n",
              "      <th>age_of_domain</th>\n",
              "      <th>DNSRecord</th>\n",
              "      <th>web_traffic</th>\n",
              "      <th>Page_Rank</th>\n",
              "      <th>Google_Index</th>\n",
              "      <th>Links_pointing_to_page</th>\n",
              "      <th>Statistical_report</th>\n",
              "      <th>Result</th>\n",
              "    </tr>\n",
              "  </thead>\n",
              "  <tbody>\n",
              "    <tr>\n",
              "      <th>count</th>\n",
              "      <td>11055.000000</td>\n",
              "      <td>11055.000000</td>\n",
              "      <td>11055.000000</td>\n",
              "      <td>11055.000000</td>\n",
              "      <td>11055.000000</td>\n",
              "      <td>11055.000000</td>\n",
              "      <td>11055.000000</td>\n",
              "      <td>11055.000000</td>\n",
              "      <td>11055.000000</td>\n",
              "      <td>11055.000000</td>\n",
              "      <td>...</td>\n",
              "      <td>11055.000000</td>\n",
              "      <td>11055.000000</td>\n",
              "      <td>11055.000000</td>\n",
              "      <td>11055.000000</td>\n",
              "      <td>11055.000000</td>\n",
              "      <td>11055.000000</td>\n",
              "      <td>11055.000000</td>\n",
              "      <td>11055.000000</td>\n",
              "      <td>11055.000000</td>\n",
              "      <td>11055.000000</td>\n",
              "    </tr>\n",
              "    <tr>\n",
              "      <th>mean</th>\n",
              "      <td>5528.000000</td>\n",
              "      <td>0.313795</td>\n",
              "      <td>-0.633198</td>\n",
              "      <td>0.738761</td>\n",
              "      <td>0.700588</td>\n",
              "      <td>0.741474</td>\n",
              "      <td>-0.734962</td>\n",
              "      <td>0.063953</td>\n",
              "      <td>0.250927</td>\n",
              "      <td>-0.336771</td>\n",
              "      <td>...</td>\n",
              "      <td>0.613388</td>\n",
              "      <td>0.816915</td>\n",
              "      <td>0.061239</td>\n",
              "      <td>0.377114</td>\n",
              "      <td>0.287291</td>\n",
              "      <td>-0.483673</td>\n",
              "      <td>0.721574</td>\n",
              "      <td>0.344007</td>\n",
              "      <td>0.719584</td>\n",
              "      <td>0.113885</td>\n",
              "    </tr>\n",
              "    <tr>\n",
              "      <th>std</th>\n",
              "      <td>3191.447947</td>\n",
              "      <td>0.949534</td>\n",
              "      <td>0.766095</td>\n",
              "      <td>0.673998</td>\n",
              "      <td>0.713598</td>\n",
              "      <td>0.671011</td>\n",
              "      <td>0.678139</td>\n",
              "      <td>0.817518</td>\n",
              "      <td>0.911892</td>\n",
              "      <td>0.941629</td>\n",
              "      <td>...</td>\n",
              "      <td>0.789818</td>\n",
              "      <td>0.576784</td>\n",
              "      <td>0.998168</td>\n",
              "      <td>0.926209</td>\n",
              "      <td>0.827733</td>\n",
              "      <td>0.875289</td>\n",
              "      <td>0.692369</td>\n",
              "      <td>0.569944</td>\n",
              "      <td>0.694437</td>\n",
              "      <td>0.993539</td>\n",
              "    </tr>\n",
              "    <tr>\n",
              "      <th>min</th>\n",
              "      <td>1.000000</td>\n",
              "      <td>-1.000000</td>\n",
              "      <td>-1.000000</td>\n",
              "      <td>-1.000000</td>\n",
              "      <td>-1.000000</td>\n",
              "      <td>-1.000000</td>\n",
              "      <td>-1.000000</td>\n",
              "      <td>-1.000000</td>\n",
              "      <td>-1.000000</td>\n",
              "      <td>-1.000000</td>\n",
              "      <td>...</td>\n",
              "      <td>-1.000000</td>\n",
              "      <td>-1.000000</td>\n",
              "      <td>-1.000000</td>\n",
              "      <td>-1.000000</td>\n",
              "      <td>-1.000000</td>\n",
              "      <td>-1.000000</td>\n",
              "      <td>-1.000000</td>\n",
              "      <td>-1.000000</td>\n",
              "      <td>-1.000000</td>\n",
              "      <td>-1.000000</td>\n",
              "    </tr>\n",
              "    <tr>\n",
              "      <th>25%</th>\n",
              "      <td>2764.500000</td>\n",
              "      <td>-1.000000</td>\n",
              "      <td>-1.000000</td>\n",
              "      <td>1.000000</td>\n",
              "      <td>1.000000</td>\n",
              "      <td>1.000000</td>\n",
              "      <td>-1.000000</td>\n",
              "      <td>-1.000000</td>\n",
              "      <td>-1.000000</td>\n",
              "      <td>-1.000000</td>\n",
              "      <td>...</td>\n",
              "      <td>1.000000</td>\n",
              "      <td>1.000000</td>\n",
              "      <td>-1.000000</td>\n",
              "      <td>-1.000000</td>\n",
              "      <td>0.000000</td>\n",
              "      <td>-1.000000</td>\n",
              "      <td>1.000000</td>\n",
              "      <td>0.000000</td>\n",
              "      <td>1.000000</td>\n",
              "      <td>-1.000000</td>\n",
              "    </tr>\n",
              "    <tr>\n",
              "      <th>50%</th>\n",
              "      <td>5528.000000</td>\n",
              "      <td>1.000000</td>\n",
              "      <td>-1.000000</td>\n",
              "      <td>1.000000</td>\n",
              "      <td>1.000000</td>\n",
              "      <td>1.000000</td>\n",
              "      <td>-1.000000</td>\n",
              "      <td>0.000000</td>\n",
              "      <td>1.000000</td>\n",
              "      <td>-1.000000</td>\n",
              "      <td>...</td>\n",
              "      <td>1.000000</td>\n",
              "      <td>1.000000</td>\n",
              "      <td>1.000000</td>\n",
              "      <td>1.000000</td>\n",
              "      <td>1.000000</td>\n",
              "      <td>-1.000000</td>\n",
              "      <td>1.000000</td>\n",
              "      <td>0.000000</td>\n",
              "      <td>1.000000</td>\n",
              "      <td>1.000000</td>\n",
              "    </tr>\n",
              "    <tr>\n",
              "      <th>75%</th>\n",
              "      <td>8291.500000</td>\n",
              "      <td>1.000000</td>\n",
              "      <td>-1.000000</td>\n",
              "      <td>1.000000</td>\n",
              "      <td>1.000000</td>\n",
              "      <td>1.000000</td>\n",
              "      <td>-1.000000</td>\n",
              "      <td>1.000000</td>\n",
              "      <td>1.000000</td>\n",
              "      <td>1.000000</td>\n",
              "      <td>...</td>\n",
              "      <td>1.000000</td>\n",
              "      <td>1.000000</td>\n",
              "      <td>1.000000</td>\n",
              "      <td>1.000000</td>\n",
              "      <td>1.000000</td>\n",
              "      <td>1.000000</td>\n",
              "      <td>1.000000</td>\n",
              "      <td>1.000000</td>\n",
              "      <td>1.000000</td>\n",
              "      <td>1.000000</td>\n",
              "    </tr>\n",
              "    <tr>\n",
              "      <th>max</th>\n",
              "      <td>11055.000000</td>\n",
              "      <td>1.000000</td>\n",
              "      <td>1.000000</td>\n",
              "      <td>1.000000</td>\n",
              "      <td>1.000000</td>\n",
              "      <td>1.000000</td>\n",
              "      <td>1.000000</td>\n",
              "      <td>1.000000</td>\n",
              "      <td>1.000000</td>\n",
              "      <td>1.000000</td>\n",
              "      <td>...</td>\n",
              "      <td>1.000000</td>\n",
              "      <td>1.000000</td>\n",
              "      <td>1.000000</td>\n",
              "      <td>1.000000</td>\n",
              "      <td>1.000000</td>\n",
              "      <td>1.000000</td>\n",
              "      <td>1.000000</td>\n",
              "      <td>1.000000</td>\n",
              "      <td>1.000000</td>\n",
              "      <td>1.000000</td>\n",
              "    </tr>\n",
              "  </tbody>\n",
              "</table>\n",
              "<p>8 rows × 32 columns</p>\n",
              "</div>\n",
              "      <button class=\"colab-df-convert\" onclick=\"convertToInteractive('df-ecafd492-af7f-4985-865a-f7719a1fb7d1')\"\n",
              "              title=\"Convert this dataframe to an interactive table.\"\n",
              "              style=\"display:none;\">\n",
              "        \n",
              "  <svg xmlns=\"http://www.w3.org/2000/svg\" height=\"24px\"viewBox=\"0 0 24 24\"\n",
              "       width=\"24px\">\n",
              "    <path d=\"M0 0h24v24H0V0z\" fill=\"none\"/>\n",
              "    <path d=\"M18.56 5.44l.94 2.06.94-2.06 2.06-.94-2.06-.94-.94-2.06-.94 2.06-2.06.94zm-11 1L8.5 8.5l.94-2.06 2.06-.94-2.06-.94L8.5 2.5l-.94 2.06-2.06.94zm10 10l.94 2.06.94-2.06 2.06-.94-2.06-.94-.94-2.06-.94 2.06-2.06.94z\"/><path d=\"M17.41 7.96l-1.37-1.37c-.4-.4-.92-.59-1.43-.59-.52 0-1.04.2-1.43.59L10.3 9.45l-7.72 7.72c-.78.78-.78 2.05 0 2.83L4 21.41c.39.39.9.59 1.41.59.51 0 1.02-.2 1.41-.59l7.78-7.78 2.81-2.81c.8-.78.8-2.07 0-2.86zM5.41 20L4 18.59l7.72-7.72 1.47 1.35L5.41 20z\"/>\n",
              "  </svg>\n",
              "      </button>\n",
              "      \n",
              "  <style>\n",
              "    .colab-df-container {\n",
              "      display:flex;\n",
              "      flex-wrap:wrap;\n",
              "      gap: 12px;\n",
              "    }\n",
              "\n",
              "    .colab-df-convert {\n",
              "      background-color: #E8F0FE;\n",
              "      border: none;\n",
              "      border-radius: 50%;\n",
              "      cursor: pointer;\n",
              "      display: none;\n",
              "      fill: #1967D2;\n",
              "      height: 32px;\n",
              "      padding: 0 0 0 0;\n",
              "      width: 32px;\n",
              "    }\n",
              "\n",
              "    .colab-df-convert:hover {\n",
              "      background-color: #E2EBFA;\n",
              "      box-shadow: 0px 1px 2px rgba(60, 64, 67, 0.3), 0px 1px 3px 1px rgba(60, 64, 67, 0.15);\n",
              "      fill: #174EA6;\n",
              "    }\n",
              "\n",
              "    [theme=dark] .colab-df-convert {\n",
              "      background-color: #3B4455;\n",
              "      fill: #D2E3FC;\n",
              "    }\n",
              "\n",
              "    [theme=dark] .colab-df-convert:hover {\n",
              "      background-color: #434B5C;\n",
              "      box-shadow: 0px 1px 3px 1px rgba(0, 0, 0, 0.15);\n",
              "      filter: drop-shadow(0px 1px 2px rgba(0, 0, 0, 0.3));\n",
              "      fill: #FFFFFF;\n",
              "    }\n",
              "  </style>\n",
              "\n",
              "      <script>\n",
              "        const buttonEl =\n",
              "          document.querySelector('#df-ecafd492-af7f-4985-865a-f7719a1fb7d1 button.colab-df-convert');\n",
              "        buttonEl.style.display =\n",
              "          google.colab.kernel.accessAllowed ? 'block' : 'none';\n",
              "\n",
              "        async function convertToInteractive(key) {\n",
              "          const element = document.querySelector('#df-ecafd492-af7f-4985-865a-f7719a1fb7d1');\n",
              "          const dataTable =\n",
              "            await google.colab.kernel.invokeFunction('convertToInteractive',\n",
              "                                                     [key], {});\n",
              "          if (!dataTable) return;\n",
              "\n",
              "          const docLinkHtml = 'Like what you see? Visit the ' +\n",
              "            '<a target=\"_blank\" href=https://colab.research.google.com/notebooks/data_table.ipynb>data table notebook</a>'\n",
              "            + ' to learn more about interactive tables.';\n",
              "          element.innerHTML = '';\n",
              "          dataTable['output_type'] = 'display_data';\n",
              "          await google.colab.output.renderOutput(dataTable, element);\n",
              "          const docLink = document.createElement('div');\n",
              "          docLink.innerHTML = docLinkHtml;\n",
              "          element.appendChild(docLink);\n",
              "        }\n",
              "      </script>\n",
              "    </div>\n",
              "  </div>\n",
              "  "
            ]
          },
          "metadata": {},
          "execution_count": 4
        }
      ]
    },
    {
      "cell_type": "code",
      "source": [
        "print(df.corr()['Result'].sort_values())"
      ],
      "metadata": {
        "colab": {
          "base_uri": "https://localhost:8080/"
        },
        "id": "MjxcXuXLm1_s",
        "outputId": "753cfe33-44d3-4d76-8ef7-4a1b1b0d4a56"
      },
      "execution_count": null,
      "outputs": [
        {
          "output_type": "stream",
          "name": "stdout",
          "text": [
            "Domain_registeration_length   -0.225789\n",
            "Shortining_Service            -0.067966\n",
            "Abnormal_URL                  -0.060488\n",
            "HTTPS_token                   -0.039854\n",
            "double_slash_redirecting      -0.038608\n",
            "Redirect                      -0.020113\n",
            "Iframe                        -0.003394\n",
            "Favicon                       -0.000280\n",
            "popUpWidnow                    0.000086\n",
            "index                          0.000978\n",
            "RightClick                     0.012653\n",
            "Submitting_to_email            0.018249\n",
            "Links_pointing_to_page         0.032574\n",
            "port                           0.036419\n",
            "on_mouseover                   0.041838\n",
            "having_At_Symbol               0.052948\n",
            "URLURL_Length                  0.057430\n",
            "DNSRecord                      0.075718\n",
            "Statistical_report             0.079857\n",
            "having_IPhaving_IP_Address     0.094160\n",
            "Page_Rank                      0.104645\n",
            "age_of_domain                  0.121496\n",
            "Google_Index                   0.128950\n",
            "SFH                            0.221419\n",
            "Links_in_tags                  0.248229\n",
            "Request_URL                    0.253372\n",
            "having_Sub_Domain              0.298323\n",
            "web_traffic                    0.346103\n",
            "Prefix_Suffix                  0.348606\n",
            "URL_of_Anchor                  0.692935\n",
            "SSLfinal_State                 0.714741\n",
            "Result                         1.000000\n",
            "Name: Result, dtype: float64\n"
          ]
        }
      ]
    },
    {
      "cell_type": "code",
      "source": [
        "# Remove features having correlation coeff. between +/- 0.03\n",
        "df.drop(['Favicon','Iframe','Redirect',\n",
        "                'popUpWidnow','RightClick','Submitting_to_email'],axis=1,inplace=True)\n",
        "print(len(df.columns))"
      ],
      "metadata": {
        "colab": {
          "base_uri": "https://localhost:8080/"
        },
        "id": "CaXO8lw8nGbF",
        "outputId": "03ac5a1e-a0ce-4199-d5e6-669624bf1ad9"
      },
      "execution_count": null,
      "outputs": [
        {
          "output_type": "stream",
          "name": "stdout",
          "text": [
            "26\n"
          ]
        }
      ]
    },
    {
      "cell_type": "code",
      "source": [
        "sns.heatmap(df.corr())\n",
        "plt.savefig('corr.png')"
      ],
      "metadata": {
        "colab": {
          "base_uri": "https://localhost:8080/",
          "height": 351
        },
        "id": "ugrGTHEQnJ2b",
        "outputId": "2f152aa6-6563-4bc3-f58c-3fc47092e0ac"
      },
      "execution_count": null,
      "outputs": [
        {
          "output_type": "display_data",
          "data": {
            "text/plain": [
              "<Figure size 432x288 with 2 Axes>"
            ],
            "image/png": "[encoded data removed]"
          },
          "metadata": {
            "needs_background": "light"
          }
        }
      ]
    },
    {
      "cell_type": "code",
      "source": [
        "l = [1,-1]\n",
        "length = len(df)\n",
        "# df.head()\n",
        "for i in range(length):\n",
        "  if(df['having_At_Symbol'].isnull().sum()):\n",
        "    rand = random.randint(0,1)\n",
        "    df['having_At_Symbol'][i] = l[rand]\n",
        "  \n",
        "df.head()"
      ],
      "metadata": {
        "colab": {
          "base_uri": "https://localhost:8080/",
          "height": 299
        },
        "id": "NlM3IUDFnOq6",
        "outputId": "bd13c965-d9d7-4bb9-be02-ad39d88ce1cb"
      },
      "execution_count": null,
      "outputs": [
        {
          "output_type": "execute_result",
          "data": {
            "text/plain": [
              "   index  having_IPhaving_IP_Address  URLURL_Length  Shortining_Service  \\\n",
              "0      1                          -1              1                   1   \n",
              "1      2                           1              1                   1   \n",
              "2      3                           1              0                   1   \n",
              "3      4                           1              0                   1   \n",
              "4      5                           1              0                  -1   \n",
              "\n",
              "   having_At_Symbol  double_slash_redirecting  Prefix_Suffix  \\\n",
              "0                 1                        -1             -1   \n",
              "1                 1                         1             -1   \n",
              "2                 1                         1             -1   \n",
              "3                 1                         1             -1   \n",
              "4                 1                         1             -1   \n",
              "\n",
              "   having_Sub_Domain  SSLfinal_State  Domain_registeration_length  ...  \\\n",
              "0                 -1              -1                           -1  ...   \n",
              "1                  0               1                           -1  ...   \n",
              "2                 -1              -1                           -1  ...   \n",
              "3                 -1              -1                            1  ...   \n",
              "4                  1               1                           -1  ...   \n",
              "\n",
              "   Abnormal_URL  on_mouseover  age_of_domain  DNSRecord  web_traffic  \\\n",
              "0            -1             1             -1         -1           -1   \n",
              "1             1             1             -1         -1            0   \n",
              "2            -1             1              1         -1            1   \n",
              "3             1             1             -1         -1            1   \n",
              "4             1            -1             -1         -1            0   \n",
              "\n",
              "   Page_Rank  Google_Index  Links_pointing_to_page  Statistical_report  Result  \n",
              "0         -1             1                       1                  -1      -1  \n",
              "1         -1             1                       1                   1      -1  \n",
              "2         -1             1                       0                  -1      -1  \n",
              "3         -1             1                      -1                   1      -1  \n",
              "4         -1             1                       1                   1       1  \n",
              "\n",
              "[5 rows x 26 columns]"
            ],
            "text/html": [
              "\n",
              "  <div id=\"df-759d11b2-8ec4-4859-82e6-d319cbbbbb6c\">\n",
              "    <div class=\"colab-df-container\">\n",
              "      <div>\n",
              "<style scoped>\n",
              "    .dataframe tbody tr th:only-of-type {\n",
              "        vertical-align: middle;\n",
              "    }\n",
              "\n",
              "    .dataframe tbody tr th {\n",
              "        vertical-align: top;\n",
              "    }\n",
              "\n",
              "    .dataframe thead th {\n",
              "        text-align: right;\n",
              "    }\n",
              "</style>\n",
              "<table border=\"1\" class=\"dataframe\">\n",
              "  <thead>\n",
              "    <tr style=\"text-align: right;\">\n",
              "      <th></th>\n",
              "      <th>index</th>\n",
              "      <th>having_IPhaving_IP_Address</th>\n",
              "      <th>URLURL_Length</th>\n",
              "      <th>Shortining_Service</th>\n",
              "      <th>having_At_Symbol</th>\n",
              "      <th>double_slash_redirecting</th>\n",
              "      <th>Prefix_Suffix</th>\n",
              "      <th>having_Sub_Domain</th>\n",
              "      <th>SSLfinal_State</th>\n",
              "      <th>Domain_registeration_length</th>\n",
              "      <th>...</th>\n",
              "      <th>Abnormal_URL</th>\n",
              "      <th>on_mouseover</th>\n",
              "      <th>age_of_domain</th>\n",
              "      <th>DNSRecord</th>\n",
              "      <th>web_traffic</th>\n",
              "      <th>Page_Rank</th>\n",
              "      <th>Google_Index</th>\n",
              "      <th>Links_pointing_to_page</th>\n",
              "      <th>Statistical_report</th>\n",
              "      <th>Result</th>\n",
              "    </tr>\n",
              "  </thead>\n",
              "  <tbody>\n",
              "    <tr>\n",
              "      <th>0</th>\n",
              "      <td>1</td>\n",
              "      <td>-1</td>\n",
              "      <td>1</td>\n",
              "      <td>1</td>\n",
              "      <td>1</td>\n",
              "      <td>-1</td>\n",
              "      <td>-1</td>\n",
              "      <td>-1</td>\n",
              "      <td>-1</td>\n",
              "      <td>-1</td>\n",
              "      <td>...</td>\n",
              "      <td>-1</td>\n",
              "      <td>1</td>\n",
              "      <td>-1</td>\n",
              "      <td>-1</td>\n",
              "      <td>-1</td>\n",
              "      <td>-1</td>\n",
              "      <td>1</td>\n",
              "      <td>1</td>\n",
              "      <td>-1</td>\n",
              "      <td>-1</td>\n",
              "    </tr>\n",
              "    <tr>\n",
              "      <th>1</th>\n",
              "      <td>2</td>\n",
              "      <td>1</td>\n",
              "      <td>1</td>\n",
              "      <td>1</td>\n",
              "      <td>1</td>\n",
              "      <td>1</td>\n",
              "      <td>-1</td>\n",
              "      <td>0</td>\n",
              "      <td>1</td>\n",
              "      <td>-1</td>\n",
              "      <td>...</td>\n",
              "      <td>1</td>\n",
              "      <td>1</td>\n",
              "      <td>-1</td>\n",
              "      <td>-1</td>\n",
              "      <td>0</td>\n",
              "      <td>-1</td>\n",
              "      <td>1</td>\n",
              "      <td>1</td>\n",
              "      <td>1</td>\n",
              "      <td>-1</td>\n",
              "    </tr>\n",
              "    <tr>\n",
              "      <th>2</th>\n",
              "      <td>3</td>\n",
              "      <td>1</td>\n",
              "      <td>0</td>\n",
              "      <td>1</td>\n",
              "      <td>1</td>\n",
              "      <td>1</td>\n",
              "      <td>-1</td>\n",
              "      <td>-1</td>\n",
              "      <td>-1</td>\n",
              "      <td>-1</td>\n",
              "      <td>...</td>\n",
              "      <td>-1</td>\n",
              "      <td>1</td>\n",
              "      <td>1</td>\n",
              "      <td>-1</td>\n",
              "      <td>1</td>\n",
              "      <td>-1</td>\n",
              "      <td>1</td>\n",
              "      <td>0</td>\n",
              "      <td>-1</td>\n",
              "      <td>-1</td>\n",
              "    </tr>\n",
              "    <tr>\n",
              "      <th>3</th>\n",
              "      <td>4</td>\n",
              "      <td>1</td>\n",
              "      <td>0</td>\n",
              "      <td>1</td>\n",
              "      <td>1</td>\n",
              "      <td>1</td>\n",
              "      <td>-1</td>\n",
              "      <td>-1</td>\n",
              "      <td>-1</td>\n",
              "      <td>1</td>\n",
              "      <td>...</td>\n",
              "      <td>1</td>\n",
              "      <td>1</td>\n",
              "      <td>-1</td>\n",
              "      <td>-1</td>\n",
              "      <td>1</td>\n",
              "      <td>-1</td>\n",
              "      <td>1</td>\n",
              "      <td>-1</td>\n",
              "      <td>1</td>\n",
              "      <td>-1</td>\n",
              "    </tr>\n",
              "    <tr>\n",
              "      <th>4</th>\n",
              "      <td>5</td>\n",
              "      <td>1</td>\n",
              "      <td>0</td>\n",
              "      <td>-1</td>\n",
              "      <td>1</td>\n",
              "      <td>1</td>\n",
              "      <td>-1</td>\n",
              "      <td>1</td>\n",
              "      <td>1</td>\n",
              "      <td>-1</td>\n",
              "      <td>...</td>\n",
              "      <td>1</td>\n",
              "      <td>-1</td>\n",
              "      <td>-1</td>\n",
              "      <td>-1</td>\n",
              "      <td>0</td>\n",
              "      <td>-1</td>\n",
              "      <td>1</td>\n",
              "      <td>1</td>\n",
              "      <td>1</td>\n",
              "      <td>1</td>\n",
              "    </tr>\n",
              "  </tbody>\n",
              "</table>\n",
              "<p>5 rows × 26 columns</p>\n",
              "</div>\n",
              "      <button class=\"colab-df-convert\" onclick=\"convertToInteractive('df-759d11b2-8ec4-4859-82e6-d319cbbbbb6c')\"\n",
              "              title=\"Convert this dataframe to an interactive table.\"\n",
              "              style=\"display:none;\">\n",
              "        \n",
              "  <svg xmlns=\"http://www.w3.org/2000/svg\" height=\"24px\"viewBox=\"0 0 24 24\"\n",
              "       width=\"24px\">\n",
              "    <path d=\"M0 0h24v24H0V0z\" fill=\"none\"/>\n",
              "    <path d=\"M18.56 5.44l.94 2.06.94-2.06 2.06-.94-2.06-.94-.94-2.06-.94 2.06-2.06.94zm-11 1L8.5 8.5l.94-2.06 2.06-.94-2.06-.94L8.5 2.5l-.94 2.06-2.06.94zm10 10l.94 2.06.94-2.06 2.06-.94-2.06-.94-.94-2.06-.94 2.06-2.06.94z\"/><path d=\"M17.41 7.96l-1.37-1.37c-.4-.4-.92-.59-1.43-.59-.52 0-1.04.2-1.43.59L10.3 9.45l-7.72 7.72c-.78.78-.78 2.05 0 2.83L4 21.41c.39.39.9.59 1.41.59.51 0 1.02-.2 1.41-.59l7.78-7.78 2.81-2.81c.8-.78.8-2.07 0-2.86zM5.41 20L4 18.59l7.72-7.72 1.47 1.35L5.41 20z\"/>\n",
              "  </svg>\n",
              "      </button>\n",
              "      \n",
              "  <style>\n",
              "    .colab-df-container {\n",
              "      display:flex;\n",
              "      flex-wrap:wrap;\n",
              "      gap: 12px;\n",
              "    }\n",
              "\n",
              "    .colab-df-convert {\n",
              "      background-color: #E8F0FE;\n",
              "      border: none;\n",
              "      border-radius: 50%;\n",
              "      cursor: pointer;\n",
              "      display: none;\n",
              "      fill: #1967D2;\n",
              "      height: 32px;\n",
              "      padding: 0 0 0 0;\n",
              "      width: 32px;\n",
              "    }\n",
              "\n",
              "    .colab-df-convert:hover {\n",
              "      background-color: #E2EBFA;\n",
              "      box-shadow: 0px 1px 2px rgba(60, 64, 67, 0.3), 0px 1px 3px 1px rgba(60, 64, 67, 0.15);\n",
              "      fill: #174EA6;\n",
              "    }\n",
              "\n",
              "    [theme=dark] .colab-df-convert {\n",
              "      background-color: #3B4455;\n",
              "      fill: #D2E3FC;\n",
              "    }\n",
              "\n",
              "    [theme=dark] .colab-df-convert:hover {\n",
              "      background-color: #434B5C;\n",
              "      box-shadow: 0px 1px 3px 1px rgba(0, 0, 0, 0.15);\n",
              "      filter: drop-shadow(0px 1px 2px rgba(0, 0, 0, 0.3));\n",
              "      fill: #FFFFFF;\n",
              "    }\n",
              "  </style>\n",
              "\n",
              "      <script>\n",
              "        const buttonEl =\n",
              "          document.querySelector('#df-759d11b2-8ec4-4859-82e6-d319cbbbbb6c button.colab-df-convert');\n",
              "        buttonEl.style.display =\n",
              "          google.colab.kernel.accessAllowed ? 'block' : 'none';\n",
              "\n",
              "        async function convertToInteractive(key) {\n",
              "          const element = document.querySelector('#df-759d11b2-8ec4-4859-82e6-d319cbbbbb6c');\n",
              "          const dataTable =\n",
              "            await google.colab.kernel.invokeFunction('convertToInteractive',\n",
              "                                                     [key], {});\n",
              "          if (!dataTable) return;\n",
              "\n",
              "          const docLinkHtml = 'Like what you see? Visit the ' +\n",
              "            '<a target=\"_blank\" href=https://colab.research.google.com/notebooks/data_table.ipynb>data table notebook</a>'\n",
              "            + ' to learn more about interactive tables.';\n",
              "          element.innerHTML = '';\n",
              "          dataTable['output_type'] = 'display_data';\n",
              "          await google.colab.output.renderOutput(dataTable, element);\n",
              "          const docLink = document.createElement('div');\n",
              "          docLink.innerHTML = docLinkHtml;\n",
              "          element.appendChild(docLink);\n",
              "        }\n",
              "      </script>\n",
              "    </div>\n",
              "  </div>\n",
              "  "
            ]
          },
          "metadata": {},
          "execution_count": 15
        }
      ]
    },
    {
      "cell_type": "code",
      "source": [
        "# print(df['having_At_Symbol'])\n",
        "sns.heatmap(df.isnull())\n",
        "plt.savefig('clean_heatmap.png')"
      ],
      "metadata": {
        "colab": {
          "base_uri": "https://localhost:8080/",
          "height": 352
        },
        "id": "XrksbVn_nUAh",
        "outputId": "0e0237a0-68e6-4123-f1a9-ce9d779e4e54"
      },
      "execution_count": null,
      "outputs": [
        {
          "output_type": "display_data",
          "data": {
            "text/plain": [
              "<Figure size 432x288 with 2 Axes>"
            ],
            "image/png": "[encoded data removed]"
          },
          "metadata": {}
        }
      ]
    },
    {
      "cell_type": "code",
      "source": [
        "sns.set_style('whitegrid')\n",
        "sns.countplot(x='having_At_Symbol',data=df)"
      ],
      "metadata": {
        "colab": {
          "base_uri": "https://localhost:8080/",
          "height": 297
        },
        "id": "MS8DlDEFnfGP",
        "outputId": "18ded8b8-91b0-4fe9-8dca-2f09d7164153"
      },
      "execution_count": null,
      "outputs": [
        {
          "output_type": "execute_result",
          "data": {
            "text/plain": [
              "<matplotlib.axes._subplots.AxesSubplot at 0x7f3649caad50>"
            ]
          },
          "metadata": {},
          "execution_count": 7
        },
        {
          "output_type": "display_data",
          "data": {
            "text/plain": [
              "<Figure size 432x288 with 1 Axes>"
            ],
            "image/png": "[encoded data removed]"
          },
          "metadata": {}
        }
      ]
    },
    {
      "cell_type": "code",
      "source": [
        "sns.countplot(x='having_IPhaving_IP_Address',data=df)"
      ],
      "metadata": {
        "colab": {
          "base_uri": "https://localhost:8080/",
          "height": 297
        },
        "id": "kcwiKuFEniYV",
        "outputId": "4611ef63-5cef-404c-e8f2-30285ae65fd2"
      },
      "execution_count": null,
      "outputs": [
        {
          "output_type": "execute_result",
          "data": {
            "text/plain": [
              "<matplotlib.axes._subplots.AxesSubplot at 0x7f3649a0ac50>"
            ]
          },
          "metadata": {},
          "execution_count": 17
        },
        {
          "output_type": "display_data",
          "data": {
            "text/plain": [
              "<Figure size 432x288 with 1 Axes>"
            ],
            "image/png": "[encoded data removed]"
          },
          "metadata": {}
        }
      ]
    },
    {
      "cell_type": "code",
      "source": [
        "sns.countplot(x='web_traffic', data=df)"
      ],
      "metadata": {
        "colab": {
          "base_uri": "https://localhost:8080/",
          "height": 297
        },
        "id": "efGKEjz2nmHE",
        "outputId": "3c0c8414-6250-4fc0-de3c-6a777a7e7749"
      },
      "execution_count": null,
      "outputs": [
        {
          "output_type": "execute_result",
          "data": {
            "text/plain": [
              "<matplotlib.axes._subplots.AxesSubplot at 0x7f364996ab10>"
            ]
          },
          "metadata": {},
          "execution_count": 18
        },
        {
          "output_type": "display_data",
          "data": {
            "text/plain": [
              "<Figure size 432x288 with 1 Axes>"
            ],
            "image/png": "[encoded data removed]"
          },
          "metadata": {}
        }
      ]
    },
    {
      "cell_type": "code",
      "source": [
        "sns.countplot(x='Result', data=df)\n"
      ],
      "metadata": {
        "colab": {
          "base_uri": "https://localhost:8080/",
          "height": 296
        },
        "id": "TVW9AfJjnpgQ",
        "outputId": "679a27a9-a5c4-4fcc-94f5-840347f5b65b"
      },
      "execution_count": null,
      "outputs": [
        {
          "output_type": "execute_result",
          "data": {
            "text/plain": [
              "<matplotlib.axes._subplots.AxesSubplot at 0x7f3649918990>"
            ]
          },
          "metadata": {},
          "execution_count": 19
        },
        {
          "output_type": "display_data",
          "data": {
            "text/plain": [
              "<Figure size 432x288 with 1 Axes>"
            ],
            "image/png": "[encoded data removed]"
          },
          "metadata": {}
        }
      ]
    },
    {
      "cell_type": "code",
      "source": [
        "sns.countplot(x='Links_pointing_to_page', data=df)"
      ],
      "metadata": {
        "colab": {
          "base_uri": "https://localhost:8080/",
          "height": 297
        },
        "id": "hOPr7m18ntlL",
        "outputId": "10c93493-4eec-4e22-c390-9ffd67a1c7fc"
      },
      "execution_count": null,
      "outputs": [
        {
          "output_type": "execute_result",
          "data": {
            "text/plain": [
              "<matplotlib.axes._subplots.AxesSubplot at 0x7f36498a4f50>"
            ]
          },
          "metadata": {},
          "execution_count": 20
        },
        {
          "output_type": "display_data",
          "data": {
            "text/plain": [
              "<Figure size 432x288 with 1 Axes>"
            ],
            "image/png": "[encoded data removed]"
          },
          "metadata": {}
        }
      ]
    },
    {
      "cell_type": "code",
      "source": [
        "sns.distplot(df['Result'], color='darkred')"
      ],
      "metadata": {
        "colab": {
          "base_uri": "https://localhost:8080/",
          "height": 355
        },
        "id": "VqHUyjwhnxzz",
        "outputId": "67c38e1d-e9e9-456b-a5e5-ada4007ddf6c"
      },
      "execution_count": null,
      "outputs": [
        {
          "output_type": "stream",
          "name": "stderr",
          "text": [
            "/usr/local/lib/python3.7/dist-packages/seaborn/distributions.py:2619: FutureWarning: `distplot` is a deprecated function and will be removed in a future version. Please adapt your code to use either `displot` (a figure-level function with similar flexibility) or `histplot` (an axes-level function for histograms).\n",
            "  warnings.warn(msg, FutureWarning)\n"
          ]
        },
        {
          "output_type": "execute_result",
          "data": {
            "text/plain": [
              "<matplotlib.axes._subplots.AxesSubplot at 0x7f36497e7f90>"
            ]
          },
          "metadata": {},
          "execution_count": 21
        },
        {
          "output_type": "display_data",
          "data": {
            "text/plain": [
              "<Figure size 432x288 with 1 Axes>"
            ],
            "image/png": "[encoded data removed]"
          },
          "metadata": {}
        }
      ]
    },
    {
      "cell_type": "code",
      "source": [
        "sns.distplot(df['Links_pointing_to_page'])"
      ],
      "metadata": {
        "colab": {
          "base_uri": "https://localhost:8080/",
          "height": 352
        },
        "id": "ipI0sg4en1bS",
        "outputId": "9081e157-e778-4b84-8eea-e154fd48dc3c"
      },
      "execution_count": null,
      "outputs": [
        {
          "output_type": "stream",
          "name": "stderr",
          "text": [
            "/usr/local/lib/python3.7/dist-packages/seaborn/distributions.py:2619: FutureWarning: `distplot` is a deprecated function and will be removed in a future version. Please adapt your code to use either `displot` (a figure-level function with similar flexibility) or `histplot` (an axes-level function for histograms).\n",
            "  warnings.warn(msg, FutureWarning)\n"
          ]
        },
        {
          "output_type": "execute_result",
          "data": {
            "text/plain": [
              "<matplotlib.axes._subplots.AxesSubplot at 0x7f3649cc0b10>"
            ]
          },
          "metadata": {},
          "execution_count": 22
        },
        {
          "output_type": "display_data",
          "data": {
            "text/plain": [
              "<Figure size 432x288 with 1 Axes>"
            ],
            "image/png": "[encoded data removed]"
          },
          "metadata": {}
        }
      ]
    },
    {
      "cell_type": "code",
      "source": [
        "sns.displot(df['web_traffic'])\n",
        "sns.displot(df['web_traffic'])"
      ],
      "metadata": {
        "colab": {
          "base_uri": "https://localhost:8080/",
          "height": 738
        },
        "id": "PkTLYrpAn4s5",
        "outputId": "bd3fd341-05f0-4ef9-da78-7f979f0b4ebd"
      },
      "execution_count": null,
      "outputs": [
        {
          "output_type": "execute_result",
          "data": {
            "text/plain": [
              "<seaborn.axisgrid.FacetGrid at 0x7f364971e890>"
            ]
          },
          "metadata": {},
          "execution_count": 23
        },
        {
          "output_type": "display_data",
          "data": {
            "text/plain": [
              "<Figure size 360x360 with 1 Axes>"
            ],
            "image/png": "[encoded data removed]"
          },
          "metadata": {}
        },
        {
          "output_type": "display_data",
          "data": {
            "text/plain": [
              "<Figure size 360x360 with 1 Axes>"
            ],
            "image/png": "[encoded data removed]"
          },
          "metadata": {}
        }
      ]
    },
    {
      "cell_type": "code",
      "source": [
        "a=len(df[df.Result==0])\n",
        "b=len(df[df.Result==-1])\n",
        "c=len(df[df.Result==1])"
      ],
      "metadata": {
        "id": "tgxID7k7n8TZ"
      },
      "execution_count": null,
      "outputs": []
    },
    {
      "cell_type": "code",
      "source": [
        "print(\"Count of Legitimate Websites = \", b)\n",
        "print(\"Count of Suspicious Websites = \", a)\n",
        "print(\"Count of Phishy Websites = \", c)"
      ],
      "metadata": {
        "colab": {
          "base_uri": "https://localhost:8080/"
        },
        "id": "1eKyRHmJn_ws",
        "outputId": "f0a5cad0-713a-47d3-e064-1a33af887023"
      },
      "execution_count": null,
      "outputs": [
        {
          "output_type": "stream",
          "name": "stdout",
          "text": [
            "Count of Legitimate Websites =  4898\n",
            "Count of Suspicious Websites =  0\n",
            "Count of Phishy Websites =  6157\n"
          ]
        }
      ]
    },
    {
      "cell_type": "code",
      "source": [
        "df.drop(['index'],axis=1,inplace=True)\n",
        "print(len(df.columns))"
      ],
      "metadata": {
        "colab": {
          "base_uri": "https://localhost:8080/"
        },
        "id": "A1m4m2IcoEgF",
        "outputId": "bc6a2e7b-3dc6-4d10-ca76-9d960f62c4f7"
      },
      "execution_count": null,
      "outputs": [
        {
          "output_type": "stream",
          "name": "stdout",
          "text": [
            "25\n"
          ]
        }
      ]
    },
    {
      "cell_type": "code",
      "source": [
        "df.plot.hist(subplots=True,layout=(5,5),figsize=(15, 15), bins=20)"
      ],
      "metadata": {
        "colab": {
          "base_uri": "https://localhost:8080/",
          "height": 1000
        },
        "id": "7YiIM1tooHr0",
        "outputId": "1b38e6a0-47b4-4753-fff0-f038cccf1ed8"
      },
      "execution_count": null,
      "outputs": [
        {
          "output_type": "execute_result",
          "data": {
            "text/plain": [
              "array([[<matplotlib.axes._subplots.AxesSubplot object at 0x7f3649baf490>,\n",
              "        <matplotlib.axes._subplots.AxesSubplot object at 0x7f3649bc6c50>,\n",
              "        <matplotlib.axes._subplots.AxesSubplot object at 0x7f3649bafc10>,\n",
              "        <matplotlib.axes._subplots.AxesSubplot object at 0x7f3649cbd3d0>,\n",
              "        <matplotlib.axes._subplots.AxesSubplot object at 0x7f364ae40e10>],\n",
              "       [<matplotlib.axes._subplots.AxesSubplot object at 0x7f364d70f550>,\n",
              "        <matplotlib.axes._subplots.AxesSubplot object at 0x7f364ae752d0>,\n",
              "        <matplotlib.axes._subplots.AxesSubplot object at 0x7f36495c1490>,\n",
              "        <matplotlib.axes._subplots.AxesSubplot object at 0x7f3649a86810>,\n",
              "        <matplotlib.axes._subplots.AxesSubplot object at 0x7f364d720b10>],\n",
              "       [<matplotlib.axes._subplots.AxesSubplot object at 0x7f3649c2cd50>,\n",
              "        <matplotlib.axes._subplots.AxesSubplot object at 0x7f3649568750>,\n",
              "        <matplotlib.axes._subplots.AxesSubplot object at 0x7f3649521a90>,\n",
              "        <matplotlib.axes._subplots.AxesSubplot object at 0x7f36494dbdd0>,\n",
              "        <matplotlib.axes._subplots.AxesSubplot object at 0x7f364949ee90>],\n",
              "       [<matplotlib.axes._subplots.AxesSubplot object at 0x7f3649459490>,\n",
              "        <matplotlib.axes._subplots.AxesSubplot object at 0x7f36494127d0>,\n",
              "        <matplotlib.axes._subplots.AxesSubplot object at 0x7f364944bb10>,\n",
              "        <matplotlib.axes._subplots.AxesSubplot object at 0x7f3649402e50>,\n",
              "        <matplotlib.axes._subplots.AxesSubplot object at 0x7f36493c5f10>],\n",
              "       [<matplotlib.axes._subplots.AxesSubplot object at 0x7f3649381510>,\n",
              "        <matplotlib.axes._subplots.AxesSubplot object at 0x7f364933a850>,\n",
              "        <matplotlib.axes._subplots.AxesSubplot object at 0x7f36492f3b90>,\n",
              "        <matplotlib.axes._subplots.AxesSubplot object at 0x7f36492abed0>,\n",
              "        <matplotlib.axes._subplots.AxesSubplot object at 0x7f364926df90>]],\n",
              "      dtype=object)"
            ]
          },
          "metadata": {},
          "execution_count": 26
        },
        {
          "output_type": "display_data",
          "data": {
            "text/plain": [
              "<Figure size 1080x1080 with 25 Axes>"
            ],
            "image/png": "[encoded data removed]"
          },
          "metadata": {}
        }
      ]
    },
    {
      "cell_type": "code",
      "source": [
        "df.corr()"
      ],
      "metadata": {
        "colab": {
          "base_uri": "https://localhost:8080/",
          "height": 926
        },
        "id": "XjUALzs5oQxT",
        "outputId": "fd078c45-a09c-486a-fbf5-853fe2496a96"
      },
      "execution_count": null,
      "outputs": [
        {
          "output_type": "execute_result",
          "data": {
            "text/plain": [
              "                             having_IPhaving_IP_Address  URLURL_Length  \\\n",
              "having_IPhaving_IP_Address                     1.000000      -0.052411   \n",
              "URLURL_Length                                 -0.052411       1.000000   \n",
              "Shortining_Service                             0.403461      -0.097881   \n",
              "having_At_Symbol                               0.158699      -0.075108   \n",
              "double_slash_redirecting                       0.397389      -0.081247   \n",
              "Prefix_Suffix                                 -0.005257       0.055247   \n",
              "having_Sub_Domain                             -0.080745       0.003997   \n",
              "SSLfinal_State                                 0.071414       0.048754   \n",
              "Domain_registeration_length                   -0.022739      -0.221892   \n",
              "port                                           0.060979       0.000323   \n",
              "HTTPS_token                                    0.363534      -0.089383   \n",
              "Request_URL                                    0.029773       0.246348   \n",
              "URL_of_Anchor                                  0.099847      -0.023396   \n",
              "Links_in_tags                                  0.006212       0.052869   \n",
              "SFH                                           -0.010962       0.414196   \n",
              "Abnormal_URL                                   0.336549      -0.106761   \n",
              "on_mouseover                                   0.084059      -0.045103   \n",
              "age_of_domain                                 -0.010446       0.179426   \n",
              "DNSRecord                                     -0.050733      -0.040823   \n",
              "web_traffic                                    0.002922       0.008993   \n",
              "Page_Rank                                     -0.091774       0.183518   \n",
              "Google_Index                                   0.029153       0.002902   \n",
              "Links_pointing_to_page                        -0.339065      -0.022987   \n",
              "Statistical_report                            -0.019103      -0.067153   \n",
              "Result                                         0.094160       0.057430   \n",
              "\n",
              "                             Shortining_Service  having_At_Symbol  \\\n",
              "having_IPhaving_IP_Address             0.403461          0.158699   \n",
              "URLURL_Length                         -0.097881         -0.075108   \n",
              "Shortining_Service                     1.000000          0.104447   \n",
              "having_At_Symbol                       0.104447          1.000000   \n",
              "double_slash_redirecting               0.842796          0.086960   \n",
              "Prefix_Suffix                         -0.080471         -0.011726   \n",
              "having_Sub_Domain                     -0.041916         -0.058976   \n",
              "SSLfinal_State                        -0.061426          0.031220   \n",
              "Domain_registeration_length            0.060923          0.015522   \n",
              "port                                   0.002201          0.364891   \n",
              "HTTPS_token                            0.757838          0.104561   \n",
              "Request_URL                           -0.037235          0.027909   \n",
              "URL_of_Anchor                          0.000561          0.057914   \n",
              "Links_in_tags                         -0.133379         -0.070861   \n",
              "SFH                                   -0.022723         -0.008672   \n",
              "Abnormal_URL                           0.739290          0.203945   \n",
              "on_mouseover                           0.062383          0.279697   \n",
              "age_of_domain                         -0.052596         -0.005499   \n",
              "DNSRecord                              0.436064         -0.047872   \n",
              "web_traffic                           -0.047074          0.032918   \n",
              "Page_Rank                              0.014591         -0.064735   \n",
              "Google_Index                           0.155844          0.037061   \n",
              "Links_pointing_to_page                -0.198410         -0.006080   \n",
              "Statistical_report                     0.085461         -0.080357   \n",
              "Result                                -0.067966          0.052948   \n",
              "\n",
              "                             double_slash_redirecting  Prefix_Suffix  \\\n",
              "having_IPhaving_IP_Address                   0.397389      -0.005257   \n",
              "URLURL_Length                               -0.081247       0.055247   \n",
              "Shortining_Service                           0.842796      -0.080471   \n",
              "having_At_Symbol                             0.086960      -0.011726   \n",
              "double_slash_redirecting                     1.000000      -0.085590   \n",
              "Prefix_Suffix                               -0.085590       1.000000   \n",
              "having_Sub_Domain                           -0.043079       0.087891   \n",
              "SSLfinal_State                              -0.036200       0.261391   \n",
              "Domain_registeration_length                  0.047464      -0.096799   \n",
              "port                                         0.025060      -0.022546   \n",
              "HTTPS_token                                  0.760799      -0.070153   \n",
              "Request_URL                                 -0.026368       0.098675   \n",
              "URL_of_Anchor                               -0.005036       0.348871   \n",
              "Links_in_tags                               -0.125583       0.100254   \n",
              "SFH                                         -0.041672       0.001326   \n",
              "Abnormal_URL                                 0.723724      -0.077620   \n",
              "on_mouseover                                 0.086635       0.012578   \n",
              "age_of_domain                               -0.050107       0.074116   \n",
              "DNSRecord                                    0.431409      -0.016556   \n",
              "web_traffic                                 -0.062369       0.110598   \n",
              "Page_Rank                                   -0.003132      -0.006834   \n",
              "Google_Index                                 0.178415       0.067781   \n",
              "Links_pointing_to_page                      -0.194165       0.067423   \n",
              "Statistical_report                           0.070390      -0.002763   \n",
              "Result                                      -0.038608       0.348606   \n",
              "\n",
              "                             having_Sub_Domain  SSLfinal_State  \\\n",
              "having_IPhaving_IP_Address           -0.080745        0.071414   \n",
              "URLURL_Length                         0.003997        0.048754   \n",
              "Shortining_Service                   -0.041916       -0.061426   \n",
              "having_At_Symbol                     -0.058976        0.031220   \n",
              "double_slash_redirecting             -0.043079       -0.036200   \n",
              "Prefix_Suffix                         0.087891        0.261391   \n",
              "having_Sub_Domain                     1.000000        0.267649   \n",
              "SSLfinal_State                        0.267649        1.000000   \n",
              "Domain_registeration_length          -0.082839       -0.193622   \n",
              "port                                  0.004863        0.027473   \n",
              "HTTPS_token                          -0.037239       -0.029941   \n",
              "Request_URL                           0.104857        0.193054   \n",
              "URL_of_Anchor                         0.229491        0.535786   \n",
              "Links_in_tags                         0.093646        0.176825   \n",
              "SFH                                   0.096089        0.171402   \n",
              "Abnormal_URL                         -0.034908       -0.046245   \n",
              "on_mouseover                         -0.018082        0.023586   \n",
              "age_of_domain                         0.119254        0.162809   \n",
              "DNSRecord                             0.125493        0.050972   \n",
              "web_traffic                          -0.005764        0.258768   \n",
              "Page_Rank                             0.120730        0.074545   \n",
              "Google_Index                          0.057673        0.096051   \n",
              "Links_pointing_to_page               -0.010526       -0.011710   \n",
              "Statistical_report                    0.081627        0.063411   \n",
              "Result                                0.298323        0.714741   \n",
              "\n",
              "                             Domain_registeration_length      port  ...  \\\n",
              "having_IPhaving_IP_Address                     -0.022739  0.060979  ...   \n",
              "URLURL_Length                                  -0.221892  0.000323  ...   \n",
              "Shortining_Service                              0.060923  0.002201  ...   \n",
              "having_At_Symbol                                0.015522  0.364891  ...   \n",
              "double_slash_redirecting                        0.047464  0.025060  ...   \n",
              "Prefix_Suffix                                  -0.096799 -0.022546  ...   \n",
              "having_Sub_Domain                              -0.082839  0.004863  ...   \n",
              "SSLfinal_State                                 -0.193622  0.027473  ...   \n",
              "Domain_registeration_length                     1.000000  0.022478  ...   \n",
              "port                                            0.022478  1.000000  ...   \n",
              "HTTPS_token                                     0.059161  0.004999  ...   \n",
              "Request_URL                                    -0.609970  0.027561  ...   \n",
              "URL_of_Anchor                                  -0.160257  0.039891  ...   \n",
              "Links_in_tags                                  -0.101084 -0.066502  ...   \n",
              "SFH                                            -0.136422  0.006672  ...   \n",
              "Abnormal_URL                                    0.058109  0.054126  ...   \n",
              "on_mouseover                                    0.023784  0.623298  ...   \n",
              "age_of_domain                                  -0.062851  0.008459  ...   \n",
              "DNSRecord                                      -0.010477  0.054849  ...   \n",
              "web_traffic                                    -0.134454 -0.028543  ...   \n",
              "Page_Rank                                      -0.059898  0.017954  ...   \n",
              "Google_Index                                   -0.039766 -0.005413  ...   \n",
              "Links_pointing_to_page                          0.122672 -0.139104  ...   \n",
              "Statistical_report                             -0.002212  0.343987  ...   \n",
              "Result                                         -0.225789  0.036419  ...   \n",
              "\n",
              "                             Abnormal_URL  on_mouseover  age_of_domain  \\\n",
              "having_IPhaving_IP_Address       0.336549      0.084059      -0.010446   \n",
              "URLURL_Length                   -0.106761     -0.045103       0.179426   \n",
              "Shortining_Service               0.739290      0.062383      -0.052596   \n",
              "having_At_Symbol                 0.203945      0.279697      -0.005499   \n",
              "double_slash_redirecting         0.723724      0.086635      -0.050107   \n",
              "Prefix_Suffix                   -0.077620      0.012578       0.074116   \n",
              "having_Sub_Domain               -0.034908     -0.018082       0.119254   \n",
              "SSLfinal_State                  -0.046245      0.023586       0.162809   \n",
              "Domain_registeration_length      0.058109      0.023784      -0.062851   \n",
              "port                             0.054126      0.623298       0.008459   \n",
              "HTTPS_token                      0.716287      0.110113      -0.049632   \n",
              "Request_URL                     -0.036034      0.008144       0.090455   \n",
              "URL_of_Anchor                   -0.010585      0.067742       0.075508   \n",
              "Links_in_tags                   -0.116065     -0.077670       0.078057   \n",
              "SFH                             -0.030752      0.007579      -0.015840   \n",
              "Abnormal_URL                     1.000000      0.117638      -0.032533   \n",
              "on_mouseover                     0.117638      1.000000       0.013306   \n",
              "age_of_domain                   -0.032533      0.013306       1.000000   \n",
              "DNSRecord                        0.366833      0.087161      -0.034082   \n",
              "web_traffic                     -0.052416     -0.036531       0.089949   \n",
              "Page_Rank                        0.007318      0.015634      -0.147194   \n",
              "Google_Index                     0.124751     -0.006510      -0.028471   \n",
              "Links_pointing_to_page          -0.161027     -0.038551       0.040407   \n",
              "Statistical_report               0.186399      0.277347       0.009115   \n",
              "Result                          -0.060488      0.041838       0.121496   \n",
              "\n",
              "                             DNSRecord  web_traffic  Page_Rank  Google_Index  \\\n",
              "having_IPhaving_IP_Address   -0.050733     0.002922  -0.091774      0.029153   \n",
              "URLURL_Length                -0.040823     0.008993   0.183518      0.002902   \n",
              "Shortining_Service            0.436064    -0.047074   0.014591      0.155844   \n",
              "having_At_Symbol             -0.047872     0.032918  -0.064735      0.037061   \n",
              "double_slash_redirecting      0.431409    -0.062369  -0.003132      0.178415   \n",
              "Prefix_Suffix                -0.016556     0.110598  -0.006834      0.067781   \n",
              "having_Sub_Domain             0.125493    -0.005764   0.120730      0.057673   \n",
              "SSLfinal_State                0.050972     0.258768   0.074545      0.096051   \n",
              "Domain_registeration_length  -0.010477    -0.134454  -0.059898     -0.039766   \n",
              "port                          0.054849    -0.028543   0.017954     -0.005413   \n",
              "HTTPS_token                   0.395387    -0.039708   0.021104      0.115450   \n",
              "Request_URL                   0.015933     0.161166   0.055734      0.046409   \n",
              "URL_of_Anchor                 0.093288     0.326293   0.099261      0.038816   \n",
              "Links_in_tags                -0.038545     0.064548  -0.006450      0.045557   \n",
              "SFH                           0.034440     0.052706   0.001979      0.027588   \n",
              "Abnormal_URL                  0.366833    -0.052416   0.007318      0.124751   \n",
              "on_mouseover                  0.087161    -0.036531   0.015634     -0.006510   \n",
              "age_of_domain                -0.034082     0.089949  -0.147194     -0.028471   \n",
              "DNSRecord                     1.000000     0.048650   0.137860      0.137509   \n",
              "web_traffic                   0.048650     1.000000   0.030984     -0.012584   \n",
              "Page_Rank                     0.137860     0.030984   1.000000      0.032431   \n",
              "Google_Index                  0.137509    -0.012584   0.032431      1.000000   \n",
              "Links_pointing_to_page       -0.318266    -0.019860  -0.028216     -0.038777   \n",
              "Statistical_report            0.136860     0.009223   0.031049     -0.005103   \n",
              "Result                        0.075718     0.346103   0.104645      0.128950   \n",
              "\n",
              "                             Links_pointing_to_page  Statistical_report  \\\n",
              "having_IPhaving_IP_Address                -0.339065           -0.019103   \n",
              "URLURL_Length                             -0.022987           -0.067153   \n",
              "Shortining_Service                        -0.198410            0.085461   \n",
              "having_At_Symbol                          -0.006080           -0.080357   \n",
              "double_slash_redirecting                  -0.194165            0.070390   \n",
              "Prefix_Suffix                              0.067423           -0.002763   \n",
              "having_Sub_Domain                         -0.010526            0.081627   \n",
              "SSLfinal_State                            -0.011710            0.063411   \n",
              "Domain_registeration_length                0.122672           -0.002212   \n",
              "port                                      -0.139104            0.343987   \n",
              "HTTPS_token                               -0.128724            0.096187   \n",
              "Request_URL                               -0.067109            0.035412   \n",
              "URL_of_Anchor                              0.018651            0.077377   \n",
              "Links_in_tags                              0.013561           -0.087343   \n",
              "SFH                                       -0.009068           -0.005289   \n",
              "Abnormal_URL                              -0.161027            0.186399   \n",
              "on_mouseover                              -0.038551            0.277347   \n",
              "age_of_domain                              0.040407            0.009115   \n",
              "DNSRecord                                 -0.318266            0.136860   \n",
              "web_traffic                               -0.019860            0.009223   \n",
              "Page_Rank                                 -0.028216            0.031049   \n",
              "Google_Index                              -0.038777           -0.005103   \n",
              "Links_pointing_to_page                     1.000000           -0.016817   \n",
              "Statistical_report                        -0.016817            1.000000   \n",
              "Result                                     0.032574            0.079857   \n",
              "\n",
              "                               Result  \n",
              "having_IPhaving_IP_Address   0.094160  \n",
              "URLURL_Length                0.057430  \n",
              "Shortining_Service          -0.067966  \n",
              "having_At_Symbol             0.052948  \n",
              "double_slash_redirecting    -0.038608  \n",
              "Prefix_Suffix                0.348606  \n",
              "having_Sub_Domain            0.298323  \n",
              "SSLfinal_State               0.714741  \n",
              "Domain_registeration_length -0.225789  \n",
              "port                         0.036419  \n",
              "HTTPS_token                 -0.039854  \n",
              "Request_URL                  0.253372  \n",
              "URL_of_Anchor                0.692935  \n",
              "Links_in_tags                0.248229  \n",
              "SFH                          0.221419  \n",
              "Abnormal_URL                -0.060488  \n",
              "on_mouseover                 0.041838  \n",
              "age_of_domain                0.121496  \n",
              "DNSRecord                    0.075718  \n",
              "web_traffic                  0.346103  \n",
              "Page_Rank                    0.104645  \n",
              "Google_Index                 0.128950  \n",
              "Links_pointing_to_page       0.032574  \n",
              "Statistical_report           0.079857  \n",
              "Result                       1.000000  \n",
              "\n",
              "[25 rows x 25 columns]"
            ],
            "text/html": [
              "\n",
              "  <div id=\"df-17571fa8-27f4-492f-96dd-be93e60cedec\">\n",
              "    <div class=\"colab-df-container\">\n",
              "      <div>\n",
              "<style scoped>\n",
              "    .dataframe tbody tr th:only-of-type {\n",
              "        vertical-align: middle;\n",
              "    }\n",
              "\n",
              "    .dataframe tbody tr th {\n",
              "        vertical-align: top;\n",
              "    }\n",
              "\n",
              "    .dataframe thead th {\n",
              "        text-align: right;\n",
              "    }\n",
              "</style>\n",
              "<table border=\"1\" class=\"dataframe\">\n",
              "  <thead>\n",
              "    <tr style=\"text-align: right;\">\n",
              "      <th></th>\n",
              "      <th>having_IPhaving_IP_Address</th>\n",
              "      <th>URLURL_Length</th>\n",
              "      <th>Shortining_Service</th>\n",
              "      <th>having_At_Symbol</th>\n",
              "      <th>double_slash_redirecting</th>\n",
              "      <th>Prefix_Suffix</th>\n",
              "      <th>having_Sub_Domain</th>\n",
              "      <th>SSLfinal_State</th>\n",
              "      <th>Domain_registeration_length</th>\n",
              "      <th>port</th>\n",
              "      <th>...</th>\n",
              "      <th>Abnormal_URL</th>\n",
              "      <th>on_mouseover</th>\n",
              "      <th>age_of_domain</th>\n",
              "      <th>DNSRecord</th>\n",
              "      <th>web_traffic</th>\n",
              "      <th>Page_Rank</th>\n",
              "      <th>Google_Index</th>\n",
              "      <th>Links_pointing_to_page</th>\n",
              "      <th>Statistical_report</th>\n",
              "      <th>Result</th>\n",
              "    </tr>\n",
              "  </thead>\n",
              "  <tbody>\n",
              "    <tr>\n",
              "      <th>having_IPhaving_IP_Address</th>\n",
              "      <td>1.000000</td>\n",
              "      <td>-0.052411</td>\n",
              "      <td>0.403461</td>\n",
              "      <td>0.158699</td>\n",
              "      <td>0.397389</td>\n",
              "      <td>-0.005257</td>\n",
              "      <td>-0.080745</td>\n",
              "      <td>0.071414</td>\n",
              "      <td>-0.022739</td>\n",
              "      <td>0.060979</td>\n",
              "      <td>...</td>\n",
              "      <td>0.336549</td>\n",
              "      <td>0.084059</td>\n",
              "      <td>-0.010446</td>\n",
              "      <td>-0.050733</td>\n",
              "      <td>0.002922</td>\n",
              "      <td>-0.091774</td>\n",
              "      <td>0.029153</td>\n",
              "      <td>-0.339065</td>\n",
              "      <td>-0.019103</td>\n",
              "      <td>0.094160</td>\n",
              "    </tr>\n",
              "    <tr>\n",
              "      <th>URLURL_Length</th>\n",
              "      <td>-0.052411</td>\n",
              "      <td>1.000000</td>\n",
              "      <td>-0.097881</td>\n",
              "      <td>-0.075108</td>\n",
              "      <td>-0.081247</td>\n",
              "      <td>0.055247</td>\n",
              "      <td>0.003997</td>\n",
              "      <td>0.048754</td>\n",
              "      <td>-0.221892</td>\n",
              "      <td>0.000323</td>\n",
              "      <td>...</td>\n",
              "      <td>-0.106761</td>\n",
              "      <td>-0.045103</td>\n",
              "      <td>0.179426</td>\n",
              "      <td>-0.040823</td>\n",
              "      <td>0.008993</td>\n",
              "      <td>0.183518</td>\n",
              "      <td>0.002902</td>\n",
              "      <td>-0.022987</td>\n",
              "      <td>-0.067153</td>\n",
              "      <td>0.057430</td>\n",
              "    </tr>\n",
              "    <tr>\n",
              "      <th>Shortining_Service</th>\n",
              "      <td>0.403461</td>\n",
              "      <td>-0.097881</td>\n",
              "      <td>1.000000</td>\n",
              "      <td>0.104447</td>\n",
              "      <td>0.842796</td>\n",
              "      <td>-0.080471</td>\n",
              "      <td>-0.041916</td>\n",
              "      <td>-0.061426</td>\n",
              "      <td>0.060923</td>\n",
              "      <td>0.002201</td>\n",
              "      <td>...</td>\n",
              "      <td>0.739290</td>\n",
              "      <td>0.062383</td>\n",
              "      <td>-0.052596</td>\n",
              "      <td>0.436064</td>\n",
              "      <td>-0.047074</td>\n",
              "      <td>0.014591</td>\n",
              "      <td>0.155844</td>\n",
              "      <td>-0.198410</td>\n",
              "      <td>0.085461</td>\n",
              "      <td>-0.067966</td>\n",
              "    </tr>\n",
              "    <tr>\n",
              "      <th>having_At_Symbol</th>\n",
              "      <td>0.158699</td>\n",
              "      <td>-0.075108</td>\n",
              "      <td>0.104447</td>\n",
              "      <td>1.000000</td>\n",
              "      <td>0.086960</td>\n",
              "      <td>-0.011726</td>\n",
              "      <td>-0.058976</td>\n",
              "      <td>0.031220</td>\n",
              "      <td>0.015522</td>\n",
              "      <td>0.364891</td>\n",
              "      <td>...</td>\n",
              "      <td>0.203945</td>\n",
              "      <td>0.279697</td>\n",
              "      <td>-0.005499</td>\n",
              "      <td>-0.047872</td>\n",
              "      <td>0.032918</td>\n",
              "      <td>-0.064735</td>\n",
              "      <td>0.037061</td>\n",
              "      <td>-0.006080</td>\n",
              "      <td>-0.080357</td>\n",
              "      <td>0.052948</td>\n",
              "    </tr>\n",
              "    <tr>\n",
              "      <th>double_slash_redirecting</th>\n",
              "      <td>0.397389</td>\n",
              "      <td>-0.081247</td>\n",
              "      <td>0.842796</td>\n",
              "      <td>0.086960</td>\n",
              "      <td>1.000000</td>\n",
              "      <td>-0.085590</td>\n",
              "      <td>-0.043079</td>\n",
              "      <td>-0.036200</td>\n",
              "      <td>0.047464</td>\n",
              "      <td>0.025060</td>\n",
              "      <td>...</td>\n",
              "      <td>0.723724</td>\n",
              "      <td>0.086635</td>\n",
              "      <td>-0.050107</td>\n",
              "      <td>0.431409</td>\n",
              "      <td>-0.062369</td>\n",
              "      <td>-0.003132</td>\n",
              "      <td>0.178415</td>\n",
              "      <td>-0.194165</td>\n",
              "      <td>0.070390</td>\n",
              "      <td>-0.038608</td>\n",
              "    </tr>\n",
              "    <tr>\n",
              "      <th>Prefix_Suffix</th>\n",
              "      <td>-0.005257</td>\n",
              "      <td>0.055247</td>\n",
              "      <td>-0.080471</td>\n",
              "      <td>-0.011726</td>\n",
              "      <td>-0.085590</td>\n",
              "      <td>1.000000</td>\n",
              "      <td>0.087891</td>\n",
              "      <td>0.261391</td>\n",
              "      <td>-0.096799</td>\n",
              "      <td>-0.022546</td>\n",
              "      <td>...</td>\n",
              "      <td>-0.077620</td>\n",
              "      <td>0.012578</td>\n",
              "      <td>0.074116</td>\n",
              "      <td>-0.016556</td>\n",
              "      <td>0.110598</td>\n",
              "      <td>-0.006834</td>\n",
              "      <td>0.067781</td>\n",
              "      <td>0.067423</td>\n",
              "      <td>-0.002763</td>\n",
              "      <td>0.348606</td>\n",
              "    </tr>\n",
              "    <tr>\n",
              "      <th>having_Sub_Domain</th>\n",
              "      <td>-0.080745</td>\n",
              "      <td>0.003997</td>\n",
              "      <td>-0.041916</td>\n",
              "      <td>-0.058976</td>\n",
              "      <td>-0.043079</td>\n",
              "      <td>0.087891</td>\n",
              "      <td>1.000000</td>\n",
              "      <td>0.267649</td>\n",
              "      <td>-0.082839</td>\n",
              "      <td>0.004863</td>\n",
              "      <td>...</td>\n",
              "      <td>-0.034908</td>\n",
              "      <td>-0.018082</td>\n",
              "      <td>0.119254</td>\n",
              "      <td>0.125493</td>\n",
              "      <td>-0.005764</td>\n",
              "      <td>0.120730</td>\n",
              "      <td>0.057673</td>\n",
              "      <td>-0.010526</td>\n",
              "      <td>0.081627</td>\n",
              "      <td>0.298323</td>\n",
              "    </tr>\n",
              "    <tr>\n",
              "      <th>SSLfinal_State</th>\n",
              "      <td>0.071414</td>\n",
              "      <td>0.048754</td>\n",
              "      <td>-0.061426</td>\n",
              "      <td>0.031220</td>\n",
              "      <td>-0.036200</td>\n",
              "      <td>0.261391</td>\n",
              "      <td>0.267649</td>\n",
              "      <td>1.000000</td>\n",
              "      <td>-0.193622</td>\n",
              "      <td>0.027473</td>\n",
              "      <td>...</td>\n",
              "      <td>-0.046245</td>\n",
              "      <td>0.023586</td>\n",
              "      <td>0.162809</td>\n",
              "      <td>0.050972</td>\n",
              "      <td>0.258768</td>\n",
              "      <td>0.074545</td>\n",
              "      <td>0.096051</td>\n",
              "      <td>-0.011710</td>\n",
              "      <td>0.063411</td>\n",
              "      <td>0.714741</td>\n",
              "    </tr>\n",
              "    <tr>\n",
              "      <th>Domain_registeration_length</th>\n",
              "      <td>-0.022739</td>\n",
              "      <td>-0.221892</td>\n",
              "      <td>0.060923</td>\n",
              "      <td>0.015522</td>\n",
              "      <td>0.047464</td>\n",
              "      <td>-0.096799</td>\n",
              "      <td>-0.082839</td>\n",
              "      <td>-0.193622</td>\n",
              "      <td>1.000000</td>\n",
              "      <td>0.022478</td>\n",
              "      <td>...</td>\n",
              "      <td>0.058109</td>\n",
              "      <td>0.023784</td>\n",
              "      <td>-0.062851</td>\n",
              "      <td>-0.010477</td>\n",
              "      <td>-0.134454</td>\n",
              "      <td>-0.059898</td>\n",
              "      <td>-0.039766</td>\n",
              "      <td>0.122672</td>\n",
              "      <td>-0.002212</td>\n",
              "      <td>-0.225789</td>\n",
              "    </tr>\n",
              "    <tr>\n",
              "      <th>port</th>\n",
              "      <td>0.060979</td>\n",
              "      <td>0.000323</td>\n",
              "      <td>0.002201</td>\n",
              "      <td>0.364891</td>\n",
              "      <td>0.025060</td>\n",
              "      <td>-0.022546</td>\n",
              "      <td>0.004863</td>\n",
              "      <td>0.027473</td>\n",
              "      <td>0.022478</td>\n",
              "      <td>1.000000</td>\n",
              "      <td>...</td>\n",
              "      <td>0.054126</td>\n",
              "      <td>0.623298</td>\n",
              "      <td>0.008459</td>\n",
              "      <td>0.054849</td>\n",
              "      <td>-0.028543</td>\n",
              "      <td>0.017954</td>\n",
              "      <td>-0.005413</td>\n",
              "      <td>-0.139104</td>\n",
              "      <td>0.343987</td>\n",
              "      <td>0.036419</td>\n",
              "    </tr>\n",
              "    <tr>\n",
              "      <th>HTTPS_token</th>\n",
              "      <td>0.363534</td>\n",
              "      <td>-0.089383</td>\n",
              "      <td>0.757838</td>\n",
              "      <td>0.104561</td>\n",
              "      <td>0.760799</td>\n",
              "      <td>-0.070153</td>\n",
              "      <td>-0.037239</td>\n",
              "      <td>-0.029941</td>\n",
              "      <td>0.059161</td>\n",
              "      <td>0.004999</td>\n",
              "      <td>...</td>\n",
              "      <td>0.716287</td>\n",
              "      <td>0.110113</td>\n",
              "      <td>-0.049632</td>\n",
              "      <td>0.395387</td>\n",
              "      <td>-0.039708</td>\n",
              "      <td>0.021104</td>\n",
              "      <td>0.115450</td>\n",
              "      <td>-0.128724</td>\n",
              "      <td>0.096187</td>\n",
              "      <td>-0.039854</td>\n",
              "    </tr>\n",
              "    <tr>\n",
              "      <th>Request_URL</th>\n",
              "      <td>0.029773</td>\n",
              "      <td>0.246348</td>\n",
              "      <td>-0.037235</td>\n",
              "      <td>0.027909</td>\n",
              "      <td>-0.026368</td>\n",
              "      <td>0.098675</td>\n",
              "      <td>0.104857</td>\n",
              "      <td>0.193054</td>\n",
              "      <td>-0.609970</td>\n",
              "      <td>0.027561</td>\n",
              "      <td>...</td>\n",
              "      <td>-0.036034</td>\n",
              "      <td>0.008144</td>\n",
              "      <td>0.090455</td>\n",
              "      <td>0.015933</td>\n",
              "      <td>0.161166</td>\n",
              "      <td>0.055734</td>\n",
              "      <td>0.046409</td>\n",
              "      <td>-0.067109</td>\n",
              "      <td>0.035412</td>\n",
              "      <td>0.253372</td>\n",
              "    </tr>\n",
              "    <tr>\n",
              "      <th>URL_of_Anchor</th>\n",
              "      <td>0.099847</td>\n",
              "      <td>-0.023396</td>\n",
              "      <td>0.000561</td>\n",
              "      <td>0.057914</td>\n",
              "      <td>-0.005036</td>\n",
              "      <td>0.348871</td>\n",
              "      <td>0.229491</td>\n",
              "      <td>0.535786</td>\n",
              "      <td>-0.160257</td>\n",
              "      <td>0.039891</td>\n",
              "      <td>...</td>\n",
              "      <td>-0.010585</td>\n",
              "      <td>0.067742</td>\n",
              "      <td>0.075508</td>\n",
              "      <td>0.093288</td>\n",
              "      <td>0.326293</td>\n",
              "      <td>0.099261</td>\n",
              "      <td>0.038816</td>\n",
              "      <td>0.018651</td>\n",
              "      <td>0.077377</td>\n",
              "      <td>0.692935</td>\n",
              "    </tr>\n",
              "    <tr>\n",
              "      <th>Links_in_tags</th>\n",
              "      <td>0.006212</td>\n",
              "      <td>0.052869</td>\n",
              "      <td>-0.133379</td>\n",
              "      <td>-0.070861</td>\n",
              "      <td>-0.125583</td>\n",
              "      <td>0.100254</td>\n",
              "      <td>0.093646</td>\n",
              "      <td>0.176825</td>\n",
              "      <td>-0.101084</td>\n",
              "      <td>-0.066502</td>\n",
              "      <td>...</td>\n",
              "      <td>-0.116065</td>\n",
              "      <td>-0.077670</td>\n",
              "      <td>0.078057</td>\n",
              "      <td>-0.038545</td>\n",
              "      <td>0.064548</td>\n",
              "      <td>-0.006450</td>\n",
              "      <td>0.045557</td>\n",
              "      <td>0.013561</td>\n",
              "      <td>-0.087343</td>\n",
              "      <td>0.248229</td>\n",
              "    </tr>\n",
              "    <tr>\n",
              "      <th>SFH</th>\n",
              "      <td>-0.010962</td>\n",
              "      <td>0.414196</td>\n",
              "      <td>-0.022723</td>\n",
              "      <td>-0.008672</td>\n",
              "      <td>-0.041672</td>\n",
              "      <td>0.001326</td>\n",
              "      <td>0.096089</td>\n",
              "      <td>0.171402</td>\n",
              "      <td>-0.136422</td>\n",
              "      <td>0.006672</td>\n",
              "      <td>...</td>\n",
              "      <td>-0.030752</td>\n",
              "      <td>0.007579</td>\n",
              "      <td>-0.015840</td>\n",
              "      <td>0.034440</td>\n",
              "      <td>0.052706</td>\n",
              "      <td>0.001979</td>\n",
              "      <td>0.027588</td>\n",
              "      <td>-0.009068</td>\n",
              "      <td>-0.005289</td>\n",
              "      <td>0.221419</td>\n",
              "    </tr>\n",
              "    <tr>\n",
              "      <th>Abnormal_URL</th>\n",
              "      <td>0.336549</td>\n",
              "      <td>-0.106761</td>\n",
              "      <td>0.739290</td>\n",
              "      <td>0.203945</td>\n",
              "      <td>0.723724</td>\n",
              "      <td>-0.077620</td>\n",
              "      <td>-0.034908</td>\n",
              "      <td>-0.046245</td>\n",
              "      <td>0.058109</td>\n",
              "      <td>0.054126</td>\n",
              "      <td>...</td>\n",
              "      <td>1.000000</td>\n",
              "      <td>0.117638</td>\n",
              "      <td>-0.032533</td>\n",
              "      <td>0.366833</td>\n",
              "      <td>-0.052416</td>\n",
              "      <td>0.007318</td>\n",
              "      <td>0.124751</td>\n",
              "      <td>-0.161027</td>\n",
              "      <td>0.186399</td>\n",
              "      <td>-0.060488</td>\n",
              "    </tr>\n",
              "    <tr>\n",
              "      <th>on_mouseover</th>\n",
              "      <td>0.084059</td>\n",
              "      <td>-0.045103</td>\n",
              "      <td>0.062383</td>\n",
              "      <td>0.279697</td>\n",
              "      <td>0.086635</td>\n",
              "      <td>0.012578</td>\n",
              "      <td>-0.018082</td>\n",
              "      <td>0.023586</td>\n",
              "      <td>0.023784</td>\n",
              "      <td>0.623298</td>\n",
              "      <td>...</td>\n",
              "      <td>0.117638</td>\n",
              "      <td>1.000000</td>\n",
              "      <td>0.013306</td>\n",
              "      <td>0.087161</td>\n",
              "      <td>-0.036531</td>\n",
              "      <td>0.015634</td>\n",
              "      <td>-0.006510</td>\n",
              "      <td>-0.038551</td>\n",
              "      <td>0.277347</td>\n",
              "      <td>0.041838</td>\n",
              "    </tr>\n",
              "    <tr>\n",
              "      <th>age_of_domain</th>\n",
              "      <td>-0.010446</td>\n",
              "      <td>0.179426</td>\n",
              "      <td>-0.052596</td>\n",
              "      <td>-0.005499</td>\n",
              "      <td>-0.050107</td>\n",
              "      <td>0.074116</td>\n",
              "      <td>0.119254</td>\n",
              "      <td>0.162809</td>\n",
              "      <td>-0.062851</td>\n",
              "      <td>0.008459</td>\n",
              "      <td>...</td>\n",
              "      <td>-0.032533</td>\n",
              "      <td>0.013306</td>\n",
              "      <td>1.000000</td>\n",
              "      <td>-0.034082</td>\n",
              "      <td>0.089949</td>\n",
              "      <td>-0.147194</td>\n",
              "      <td>-0.028471</td>\n",
              "      <td>0.040407</td>\n",
              "      <td>0.009115</td>\n",
              "      <td>0.121496</td>\n",
              "    </tr>\n",
              "    <tr>\n",
              "      <th>DNSRecord</th>\n",
              "      <td>-0.050733</td>\n",
              "      <td>-0.040823</td>\n",
              "      <td>0.436064</td>\n",
              "      <td>-0.047872</td>\n",
              "      <td>0.431409</td>\n",
              "      <td>-0.016556</td>\n",
              "      <td>0.125493</td>\n",
              "      <td>0.050972</td>\n",
              "      <td>-0.010477</td>\n",
              "      <td>0.054849</td>\n",
              "      <td>...</td>\n",
              "      <td>0.366833</td>\n",
              "      <td>0.087161</td>\n",
              "      <td>-0.034082</td>\n",
              "      <td>1.000000</td>\n",
              "      <td>0.048650</td>\n",
              "      <td>0.137860</td>\n",
              "      <td>0.137509</td>\n",
              "      <td>-0.318266</td>\n",
              "      <td>0.136860</td>\n",
              "      <td>0.075718</td>\n",
              "    </tr>\n",
              "    <tr>\n",
              "      <th>web_traffic</th>\n",
              "      <td>0.002922</td>\n",
              "      <td>0.008993</td>\n",
              "      <td>-0.047074</td>\n",
              "      <td>0.032918</td>\n",
              "      <td>-0.062369</td>\n",
              "      <td>0.110598</td>\n",
              "      <td>-0.005764</td>\n",
              "      <td>0.258768</td>\n",
              "      <td>-0.134454</td>\n",
              "      <td>-0.028543</td>\n",
              "      <td>...</td>\n",
              "      <td>-0.052416</td>\n",
              "      <td>-0.036531</td>\n",
              "      <td>0.089949</td>\n",
              "      <td>0.048650</td>\n",
              "      <td>1.000000</td>\n",
              "      <td>0.030984</td>\n",
              "      <td>-0.012584</td>\n",
              "      <td>-0.019860</td>\n",
              "      <td>0.009223</td>\n",
              "      <td>0.346103</td>\n",
              "    </tr>\n",
              "    <tr>\n",
              "      <th>Page_Rank</th>\n",
              "      <td>-0.091774</td>\n",
              "      <td>0.183518</td>\n",
              "      <td>0.014591</td>\n",
              "      <td>-0.064735</td>\n",
              "      <td>-0.003132</td>\n",
              "      <td>-0.006834</td>\n",
              "      <td>0.120730</td>\n",
              "      <td>0.074545</td>\n",
              "      <td>-0.059898</td>\n",
              "      <td>0.017954</td>\n",
              "      <td>...</td>\n",
              "      <td>0.007318</td>\n",
              "      <td>0.015634</td>\n",
              "      <td>-0.147194</td>\n",
              "      <td>0.137860</td>\n",
              "      <td>0.030984</td>\n",
              "      <td>1.000000</td>\n",
              "      <td>0.032431</td>\n",
              "      <td>-0.028216</td>\n",
              "      <td>0.031049</td>\n",
              "      <td>0.104645</td>\n",
              "    </tr>\n",
              "    <tr>\n",
              "      <th>Google_Index</th>\n",
              "      <td>0.029153</td>\n",
              "      <td>0.002902</td>\n",
              "      <td>0.155844</td>\n",
              "      <td>0.037061</td>\n",
              "      <td>0.178415</td>\n",
              "      <td>0.067781</td>\n",
              "      <td>0.057673</td>\n",
              "      <td>0.096051</td>\n",
              "      <td>-0.039766</td>\n",
              "      <td>-0.005413</td>\n",
              "      <td>...</td>\n",
              "      <td>0.124751</td>\n",
              "      <td>-0.006510</td>\n",
              "      <td>-0.028471</td>\n",
              "      <td>0.137509</td>\n",
              "      <td>-0.012584</td>\n",
              "      <td>0.032431</td>\n",
              "      <td>1.000000</td>\n",
              "      <td>-0.038777</td>\n",
              "      <td>-0.005103</td>\n",
              "      <td>0.128950</td>\n",
              "    </tr>\n",
              "    <tr>\n",
              "      <th>Links_pointing_to_page</th>\n",
              "      <td>-0.339065</td>\n",
              "      <td>-0.022987</td>\n",
              "      <td>-0.198410</td>\n",
              "      <td>-0.006080</td>\n",
              "      <td>-0.194165</td>\n",
              "      <td>0.067423</td>\n",
              "      <td>-0.010526</td>\n",
              "      <td>-0.011710</td>\n",
              "      <td>0.122672</td>\n",
              "      <td>-0.139104</td>\n",
              "      <td>...</td>\n",
              "      <td>-0.161027</td>\n",
              "      <td>-0.038551</td>\n",
              "      <td>0.040407</td>\n",
              "      <td>-0.318266</td>\n",
              "      <td>-0.019860</td>\n",
              "      <td>-0.028216</td>\n",
              "      <td>-0.038777</td>\n",
              "      <td>1.000000</td>\n",
              "      <td>-0.016817</td>\n",
              "      <td>0.032574</td>\n",
              "    </tr>\n",
              "    <tr>\n",
              "      <th>Statistical_report</th>\n",
              "      <td>-0.019103</td>\n",
              "      <td>-0.067153</td>\n",
              "      <td>0.085461</td>\n",
              "      <td>-0.080357</td>\n",
              "      <td>0.070390</td>\n",
              "      <td>-0.002763</td>\n",
              "      <td>0.081627</td>\n",
              "      <td>0.063411</td>\n",
              "      <td>-0.002212</td>\n",
              "      <td>0.343987</td>\n",
              "      <td>...</td>\n",
              "      <td>0.186399</td>\n",
              "      <td>0.277347</td>\n",
              "      <td>0.009115</td>\n",
              "      <td>0.136860</td>\n",
              "      <td>0.009223</td>\n",
              "      <td>0.031049</td>\n",
              "      <td>-0.005103</td>\n",
              "      <td>-0.016817</td>\n",
              "      <td>1.000000</td>\n",
              "      <td>0.079857</td>\n",
              "    </tr>\n",
              "    <tr>\n",
              "      <th>Result</th>\n",
              "      <td>0.094160</td>\n",
              "      <td>0.057430</td>\n",
              "      <td>-0.067966</td>\n",
              "      <td>0.052948</td>\n",
              "      <td>-0.038608</td>\n",
              "      <td>0.348606</td>\n",
              "      <td>0.298323</td>\n",
              "      <td>0.714741</td>\n",
              "      <td>-0.225789</td>\n",
              "      <td>0.036419</td>\n",
              "      <td>...</td>\n",
              "      <td>-0.060488</td>\n",
              "      <td>0.041838</td>\n",
              "      <td>0.121496</td>\n",
              "      <td>0.075718</td>\n",
              "      <td>0.346103</td>\n",
              "      <td>0.104645</td>\n",
              "      <td>0.128950</td>\n",
              "      <td>0.032574</td>\n",
              "      <td>0.079857</td>\n",
              "      <td>1.000000</td>\n",
              "    </tr>\n",
              "  </tbody>\n",
              "</table>\n",
              "<p>25 rows × 25 columns</p>\n",
              "</div>\n",
              "      <button class=\"colab-df-convert\" onclick=\"convertToInteractive('df-17571fa8-27f4-492f-96dd-be93e60cedec')\"\n",
              "              title=\"Convert this dataframe to an interactive table.\"\n",
              "              style=\"display:none;\">\n",
              "        \n",
              "  <svg xmlns=\"http://www.w3.org/2000/svg\" height=\"24px\"viewBox=\"0 0 24 24\"\n",
              "       width=\"24px\">\n",
              "    <path d=\"M0 0h24v24H0V0z\" fill=\"none\"/>\n",
              "    <path d=\"M18.56 5.44l.94 2.06.94-2.06 2.06-.94-2.06-.94-.94-2.06-.94 2.06-2.06.94zm-11 1L8.5 8.5l.94-2.06 2.06-.94-2.06-.94L8.5 2.5l-.94 2.06-2.06.94zm10 10l.94 2.06.94-2.06 2.06-.94-2.06-.94-.94-2.06-.94 2.06-2.06.94z\"/><path d=\"M17.41 7.96l-1.37-1.37c-.4-.4-.92-.59-1.43-.59-.52 0-1.04.2-1.43.59L10.3 9.45l-7.72 7.72c-.78.78-.78 2.05 0 2.83L4 21.41c.39.39.9.59 1.41.59.51 0 1.02-.2 1.41-.59l7.78-7.78 2.81-2.81c.8-.78.8-2.07 0-2.86zM5.41 20L4 18.59l7.72-7.72 1.47 1.35L5.41 20z\"/>\n",
              "  </svg>\n",
              "      </button>\n",
              "      \n",
              "  <style>\n",
              "    .colab-df-container {\n",
              "      display:flex;\n",
              "      flex-wrap:wrap;\n",
              "      gap: 12px;\n",
              "    }\n",
              "\n",
              "    .colab-df-convert {\n",
              "      background-color: #E8F0FE;\n",
              "      border: none;\n",
              "      border-radius: 50%;\n",
              "      cursor: pointer;\n",
              "      display: none;\n",
              "      fill: #1967D2;\n",
              "      height: 32px;\n",
              "      padding: 0 0 0 0;\n",
              "      width: 32px;\n",
              "    }\n",
              "\n",
              "    .colab-df-convert:hover {\n",
              "      background-color: #E2EBFA;\n",
              "      box-shadow: 0px 1px 2px rgba(60, 64, 67, 0.3), 0px 1px 3px 1px rgba(60, 64, 67, 0.15);\n",
              "      fill: #174EA6;\n",
              "    }\n",
              "\n",
              "    [theme=dark] .colab-df-convert {\n",
              "      background-color: #3B4455;\n",
              "      fill: #D2E3FC;\n",
              "    }\n",
              "\n",
              "    [theme=dark] .colab-df-convert:hover {\n",
              "      background-color: #434B5C;\n",
              "      box-shadow: 0px 1px 3px 1px rgba(0, 0, 0, 0.15);\n",
              "      filter: drop-shadow(0px 1px 2px rgba(0, 0, 0, 0.3));\n",
              "      fill: #FFFFFF;\n",
              "    }\n",
              "  </style>\n",
              "\n",
              "      <script>\n",
              "        const buttonEl =\n",
              "          document.querySelector('#df-17571fa8-27f4-492f-96dd-be93e60cedec button.colab-df-convert');\n",
              "        buttonEl.style.display =\n",
              "          google.colab.kernel.accessAllowed ? 'block' : 'none';\n",
              "\n",
              "        async function convertToInteractive(key) {\n",
              "          const element = document.querySelector('#df-17571fa8-27f4-492f-96dd-be93e60cedec');\n",
              "          const dataTable =\n",
              "            await google.colab.kernel.invokeFunction('convertToInteractive',\n",
              "                                                     [key], {});\n",
              "          if (!dataTable) return;\n",
              "\n",
              "          const docLinkHtml = 'Like what you see? Visit the ' +\n",
              "            '<a target=\"_blank\" href=https://colab.research.google.com/notebooks/data_table.ipynb>data table notebook</a>'\n",
              "            + ' to learn more about interactive tables.';\n",
              "          element.innerHTML = '';\n",
              "          dataTable['output_type'] = 'display_data';\n",
              "          await google.colab.output.renderOutput(dataTable, element);\n",
              "          const docLink = document.createElement('div');\n",
              "          docLink.innerHTML = docLinkHtml;\n",
              "          element.appendChild(docLink);\n",
              "        }\n",
              "      </script>\n",
              "    </div>\n",
              "  </div>\n",
              "  "
            ]
          },
          "metadata": {},
          "execution_count": 27
        }
      ]
    },
    {
      "cell_type": "markdown",
      "source": [
        "Split the dataset"
      ],
      "metadata": {
        "id": "Y_m_RUHroW8L"
      }
    },
    {
      "cell_type": "code",
      "source": [
        "from sklearn.model_selection import train_test_split,cross_val_score"
      ],
      "metadata": {
        "id": "eKMJY94woYQp"
      },
      "execution_count": null,
      "outputs": []
    },
    {
      "cell_type": "code",
      "source": [
        "X= df.drop(columns='Result')\n",
        "X.head()"
      ],
      "metadata": {
        "colab": {
          "base_uri": "https://localhost:8080/",
          "height": 299
        },
        "id": "6nJfeRtBokuk",
        "outputId": "f2c2977b-075c-4dd7-c244-06331ef4fe57"
      },
      "execution_count": null,
      "outputs": [
        {
          "output_type": "execute_result",
          "data": {
            "text/plain": [
              "   having_IPhaving_IP_Address  URLURL_Length  Shortining_Service  \\\n",
              "0                          -1              1                   1   \n",
              "1                           1              1                   1   \n",
              "2                           1              0                   1   \n",
              "3                           1              0                   1   \n",
              "4                           1              0                  -1   \n",
              "\n",
              "   having_At_Symbol  double_slash_redirecting  Prefix_Suffix  \\\n",
              "0                 1                        -1             -1   \n",
              "1                 1                         1             -1   \n",
              "2                 1                         1             -1   \n",
              "3                 1                         1             -1   \n",
              "4                 1                         1             -1   \n",
              "\n",
              "   having_Sub_Domain  SSLfinal_State  Domain_registeration_length  port  ...  \\\n",
              "0                 -1              -1                           -1     1  ...   \n",
              "1                  0               1                           -1     1  ...   \n",
              "2                 -1              -1                           -1     1  ...   \n",
              "3                 -1              -1                            1     1  ...   \n",
              "4                  1               1                           -1     1  ...   \n",
              "\n",
              "   SFH  Abnormal_URL  on_mouseover  age_of_domain  DNSRecord  web_traffic  \\\n",
              "0   -1            -1             1             -1         -1           -1   \n",
              "1   -1             1             1             -1         -1            0   \n",
              "2   -1            -1             1              1         -1            1   \n",
              "3   -1             1             1             -1         -1            1   \n",
              "4   -1             1            -1             -1         -1            0   \n",
              "\n",
              "   Page_Rank  Google_Index  Links_pointing_to_page  Statistical_report  \n",
              "0         -1             1                       1                  -1  \n",
              "1         -1             1                       1                   1  \n",
              "2         -1             1                       0                  -1  \n",
              "3         -1             1                      -1                   1  \n",
              "4         -1             1                       1                   1  \n",
              "\n",
              "[5 rows x 24 columns]"
            ],
            "text/html": [
              "\n",
              "  <div id=\"df-ae3b672f-a4eb-4005-b447-8a7337090766\">\n",
              "    <div class=\"colab-df-container\">\n",
              "      <div>\n",
              "<style scoped>\n",
              "    .dataframe tbody tr th:only-of-type {\n",
              "        vertical-align: middle;\n",
              "    }\n",
              "\n",
              "    .dataframe tbody tr th {\n",
              "        vertical-align: top;\n",
              "    }\n",
              "\n",
              "    .dataframe thead th {\n",
              "        text-align: right;\n",
              "    }\n",
              "</style>\n",
              "<table border=\"1\" class=\"dataframe\">\n",
              "  <thead>\n",
              "    <tr style=\"text-align: right;\">\n",
              "      <th></th>\n",
              "      <th>having_IPhaving_IP_Address</th>\n",
              "      <th>URLURL_Length</th>\n",
              "      <th>Shortining_Service</th>\n",
              "      <th>having_At_Symbol</th>\n",
              "      <th>double_slash_redirecting</th>\n",
              "      <th>Prefix_Suffix</th>\n",
              "      <th>having_Sub_Domain</th>\n",
              "      <th>SSLfinal_State</th>\n",
              "      <th>Domain_registeration_length</th>\n",
              "      <th>port</th>\n",
              "      <th>...</th>\n",
              "      <th>SFH</th>\n",
              "      <th>Abnormal_URL</th>\n",
              "      <th>on_mouseover</th>\n",
              "      <th>age_of_domain</th>\n",
              "      <th>DNSRecord</th>\n",
              "      <th>web_traffic</th>\n",
              "      <th>Page_Rank</th>\n",
              "      <th>Google_Index</th>\n",
              "      <th>Links_pointing_to_page</th>\n",
              "      <th>Statistical_report</th>\n",
              "    </tr>\n",
              "  </thead>\n",
              "  <tbody>\n",
              "    <tr>\n",
              "      <th>0</th>\n",
              "      <td>-1</td>\n",
              "      <td>1</td>\n",
              "      <td>1</td>\n",
              "      <td>1</td>\n",
              "      <td>-1</td>\n",
              "      <td>-1</td>\n",
              "      <td>-1</td>\n",
              "      <td>-1</td>\n",
              "      <td>-1</td>\n",
              "      <td>1</td>\n",
              "      <td>...</td>\n",
              "      <td>-1</td>\n",
              "      <td>-1</td>\n",
              "      <td>1</td>\n",
              "      <td>-1</td>\n",
              "      <td>-1</td>\n",
              "      <td>-1</td>\n",
              "      <td>-1</td>\n",
              "      <td>1</td>\n",
              "      <td>1</td>\n",
              "      <td>-1</td>\n",
              "    </tr>\n",
              "    <tr>\n",
              "      <th>1</th>\n",
              "      <td>1</td>\n",
              "      <td>1</td>\n",
              "      <td>1</td>\n",
              "      <td>1</td>\n",
              "      <td>1</td>\n",
              "      <td>-1</td>\n",
              "      <td>0</td>\n",
              "      <td>1</td>\n",
              "      <td>-1</td>\n",
              "      <td>1</td>\n",
              "      <td>...</td>\n",
              "      <td>-1</td>\n",
              "      <td>1</td>\n",
              "      <td>1</td>\n",
              "      <td>-1</td>\n",
              "      <td>-1</td>\n",
              "      <td>0</td>\n",
              "      <td>-1</td>\n",
              "      <td>1</td>\n",
              "      <td>1</td>\n",
              "      <td>1</td>\n",
              "    </tr>\n",
              "    <tr>\n",
              "      <th>2</th>\n",
              "      <td>1</td>\n",
              "      <td>0</td>\n",
              "      <td>1</td>\n",
              "      <td>1</td>\n",
              "      <td>1</td>\n",
              "      <td>-1</td>\n",
              "      <td>-1</td>\n",
              "      <td>-1</td>\n",
              "      <td>-1</td>\n",
              "      <td>1</td>\n",
              "      <td>...</td>\n",
              "      <td>-1</td>\n",
              "      <td>-1</td>\n",
              "      <td>1</td>\n",
              "      <td>1</td>\n",
              "      <td>-1</td>\n",
              "      <td>1</td>\n",
              "      <td>-1</td>\n",
              "      <td>1</td>\n",
              "      <td>0</td>\n",
              "      <td>-1</td>\n",
              "    </tr>\n",
              "    <tr>\n",
              "      <th>3</th>\n",
              "      <td>1</td>\n",
              "      <td>0</td>\n",
              "      <td>1</td>\n",
              "      <td>1</td>\n",
              "      <td>1</td>\n",
              "      <td>-1</td>\n",
              "      <td>-1</td>\n",
              "      <td>-1</td>\n",
              "      <td>1</td>\n",
              "      <td>1</td>\n",
              "      <td>...</td>\n",
              "      <td>-1</td>\n",
              "      <td>1</td>\n",
              "      <td>1</td>\n",
              "      <td>-1</td>\n",
              "      <td>-1</td>\n",
              "      <td>1</td>\n",
              "      <td>-1</td>\n",
              "      <td>1</td>\n",
              "      <td>-1</td>\n",
              "      <td>1</td>\n",
              "    </tr>\n",
              "    <tr>\n",
              "      <th>4</th>\n",
              "      <td>1</td>\n",
              "      <td>0</td>\n",
              "      <td>-1</td>\n",
              "      <td>1</td>\n",
              "      <td>1</td>\n",
              "      <td>-1</td>\n",
              "      <td>1</td>\n",
              "      <td>1</td>\n",
              "      <td>-1</td>\n",
              "      <td>1</td>\n",
              "      <td>...</td>\n",
              "      <td>-1</td>\n",
              "      <td>1</td>\n",
              "      <td>-1</td>\n",
              "      <td>-1</td>\n",
              "      <td>-1</td>\n",
              "      <td>0</td>\n",
              "      <td>-1</td>\n",
              "      <td>1</td>\n",
              "      <td>1</td>\n",
              "      <td>1</td>\n",
              "    </tr>\n",
              "  </tbody>\n",
              "</table>\n",
              "<p>5 rows × 24 columns</p>\n",
              "</div>\n",
              "      <button class=\"colab-df-convert\" onclick=\"convertToInteractive('df-ae3b672f-a4eb-4005-b447-8a7337090766')\"\n",
              "              title=\"Convert this dataframe to an interactive table.\"\n",
              "              style=\"display:none;\">\n",
              "        \n",
              "  <svg xmlns=\"http://www.w3.org/2000/svg\" height=\"24px\"viewBox=\"0 0 24 24\"\n",
              "       width=\"24px\">\n",
              "    <path d=\"M0 0h24v24H0V0z\" fill=\"none\"/>\n",
              "    <path d=\"M18.56 5.44l.94 2.06.94-2.06 2.06-.94-2.06-.94-.94-2.06-.94 2.06-2.06.94zm-11 1L8.5 8.5l.94-2.06 2.06-.94-2.06-.94L8.5 2.5l-.94 2.06-2.06.94zm10 10l.94 2.06.94-2.06 2.06-.94-2.06-.94-.94-2.06-.94 2.06-2.06.94z\"/><path d=\"M17.41 7.96l-1.37-1.37c-.4-.4-.92-.59-1.43-.59-.52 0-1.04.2-1.43.59L10.3 9.45l-7.72 7.72c-.78.78-.78 2.05 0 2.83L4 21.41c.39.39.9.59 1.41.59.51 0 1.02-.2 1.41-.59l7.78-7.78 2.81-2.81c.8-.78.8-2.07 0-2.86zM5.41 20L4 18.59l7.72-7.72 1.47 1.35L5.41 20z\"/>\n",
              "  </svg>\n",
              "      </button>\n",
              "      \n",
              "  <style>\n",
              "    .colab-df-container {\n",
              "      display:flex;\n",
              "      flex-wrap:wrap;\n",
              "      gap: 12px;\n",
              "    }\n",
              "\n",
              "    .colab-df-convert {\n",
              "      background-color: #E8F0FE;\n",
              "      border: none;\n",
              "      border-radius: 50%;\n",
              "      cursor: pointer;\n",
              "      display: none;\n",
              "      fill: #1967D2;\n",
              "      height: 32px;\n",
              "      padding: 0 0 0 0;\n",
              "      width: 32px;\n",
              "    }\n",
              "\n",
              "    .colab-df-convert:hover {\n",
              "      background-color: #E2EBFA;\n",
              "      box-shadow: 0px 1px 2px rgba(60, 64, 67, 0.3), 0px 1px 3px 1px rgba(60, 64, 67, 0.15);\n",
              "      fill: #174EA6;\n",
              "    }\n",
              "\n",
              "    [theme=dark] .colab-df-convert {\n",
              "      background-color: #3B4455;\n",
              "      fill: #D2E3FC;\n",
              "    }\n",
              "\n",
              "    [theme=dark] .colab-df-convert:hover {\n",
              "      background-color: #434B5C;\n",
              "      box-shadow: 0px 1px 3px 1px rgba(0, 0, 0, 0.15);\n",
              "      filter: drop-shadow(0px 1px 2px rgba(0, 0, 0, 0.3));\n",
              "      fill: #FFFFFF;\n",
              "    }\n",
              "  </style>\n",
              "\n",
              "      <script>\n",
              "        const buttonEl =\n",
              "          document.querySelector('#df-ae3b672f-a4eb-4005-b447-8a7337090766 button.colab-df-convert');\n",
              "        buttonEl.style.display =\n",
              "          google.colab.kernel.accessAllowed ? 'block' : 'none';\n",
              "\n",
              "        async function convertToInteractive(key) {\n",
              "          const element = document.querySelector('#df-ae3b672f-a4eb-4005-b447-8a7337090766');\n",
              "          const dataTable =\n",
              "            await google.colab.kernel.invokeFunction('convertToInteractive',\n",
              "                                                     [key], {});\n",
              "          if (!dataTable) return;\n",
              "\n",
              "          const docLinkHtml = 'Like what you see? Visit the ' +\n",
              "            '<a target=\"_blank\" href=https://colab.research.google.com/notebooks/data_table.ipynb>data table notebook</a>'\n",
              "            + ' to learn more about interactive tables.';\n",
              "          element.innerHTML = '';\n",
              "          dataTable['output_type'] = 'display_data';\n",
              "          await google.colab.output.renderOutput(dataTable, element);\n",
              "          const docLink = document.createElement('div');\n",
              "          docLink.innerHTML = docLinkHtml;\n",
              "          element.appendChild(docLink);\n",
              "        }\n",
              "      </script>\n",
              "    </div>\n",
              "  </div>\n",
              "  "
            ]
          },
          "metadata": {},
          "execution_count": 29
        }
      ]
    },
    {
      "cell_type": "code",
      "source": [
        "Y=df['Result']\n",
        "Y=pd.DataFrame(Y)\n",
        "Y.head()"
      ],
      "metadata": {
        "colab": {
          "base_uri": "https://localhost:8080/",
          "height": 206
        },
        "id": "lS5GLcueooNI",
        "outputId": "50ad1101-55e4-4f39-d39a-aa0259f31c7b"
      },
      "execution_count": null,
      "outputs": [
        {
          "output_type": "execute_result",
          "data": {
            "text/plain": [
              "   Result\n",
              "0      -1\n",
              "1      -1\n",
              "2      -1\n",
              "3      -1\n",
              "4       1"
            ],
            "text/html": [
              "\n",
              "  <div id=\"df-0cf5513d-9ae0-4522-9f36-bd49fa489dac\">\n",
              "    <div class=\"colab-df-container\">\n",
              "      <div>\n",
              "<style scoped>\n",
              "    .dataframe tbody tr th:only-of-type {\n",
              "        vertical-align: middle;\n",
              "    }\n",
              "\n",
              "    .dataframe tbody tr th {\n",
              "        vertical-align: top;\n",
              "    }\n",
              "\n",
              "    .dataframe thead th {\n",
              "        text-align: right;\n",
              "    }\n",
              "</style>\n",
              "<table border=\"1\" class=\"dataframe\">\n",
              "  <thead>\n",
              "    <tr style=\"text-align: right;\">\n",
              "      <th></th>\n",
              "      <th>Result</th>\n",
              "    </tr>\n",
              "  </thead>\n",
              "  <tbody>\n",
              "    <tr>\n",
              "      <th>0</th>\n",
              "      <td>-1</td>\n",
              "    </tr>\n",
              "    <tr>\n",
              "      <th>1</th>\n",
              "      <td>-1</td>\n",
              "    </tr>\n",
              "    <tr>\n",
              "      <th>2</th>\n",
              "      <td>-1</td>\n",
              "    </tr>\n",
              "    <tr>\n",
              "      <th>3</th>\n",
              "      <td>-1</td>\n",
              "    </tr>\n",
              "    <tr>\n",
              "      <th>4</th>\n",
              "      <td>1</td>\n",
              "    </tr>\n",
              "  </tbody>\n",
              "</table>\n",
              "</div>\n",
              "      <button class=\"colab-df-convert\" onclick=\"convertToInteractive('df-0cf5513d-9ae0-4522-9f36-bd49fa489dac')\"\n",
              "              title=\"Convert this dataframe to an interactive table.\"\n",
              "              style=\"display:none;\">\n",
              "        \n",
              "  <svg xmlns=\"http://www.w3.org/2000/svg\" height=\"24px\"viewBox=\"0 0 24 24\"\n",
              "       width=\"24px\">\n",
              "    <path d=\"M0 0h24v24H0V0z\" fill=\"none\"/>\n",
              "    <path d=\"M18.56 5.44l.94 2.06.94-2.06 2.06-.94-2.06-.94-.94-2.06-.94 2.06-2.06.94zm-11 1L8.5 8.5l.94-2.06 2.06-.94-2.06-.94L8.5 2.5l-.94 2.06-2.06.94zm10 10l.94 2.06.94-2.06 2.06-.94-2.06-.94-.94-2.06-.94 2.06-2.06.94z\"/><path d=\"M17.41 7.96l-1.37-1.37c-.4-.4-.92-.59-1.43-.59-.52 0-1.04.2-1.43.59L10.3 9.45l-7.72 7.72c-.78.78-.78 2.05 0 2.83L4 21.41c.39.39.9.59 1.41.59.51 0 1.02-.2 1.41-.59l7.78-7.78 2.81-2.81c.8-.78.8-2.07 0-2.86zM5.41 20L4 18.59l7.72-7.72 1.47 1.35L5.41 20z\"/>\n",
              "  </svg>\n",
              "      </button>\n",
              "      \n",
              "  <style>\n",
              "    .colab-df-container {\n",
              "      display:flex;\n",
              "      flex-wrap:wrap;\n",
              "      gap: 12px;\n",
              "    }\n",
              "\n",
              "    .colab-df-convert {\n",
              "      background-color: #E8F0FE;\n",
              "      border: none;\n",
              "      border-radius: 50%;\n",
              "      cursor: pointer;\n",
              "      display: none;\n",
              "      fill: #1967D2;\n",
              "      height: 32px;\n",
              "      padding: 0 0 0 0;\n",
              "      width: 32px;\n",
              "    }\n",
              "\n",
              "    .colab-df-convert:hover {\n",
              "      background-color: #E2EBFA;\n",
              "      box-shadow: 0px 1px 2px rgba(60, 64, 67, 0.3), 0px 1px 3px 1px rgba(60, 64, 67, 0.15);\n",
              "      fill: #174EA6;\n",
              "    }\n",
              "\n",
              "    [theme=dark] .colab-df-convert {\n",
              "      background-color: #3B4455;\n",
              "      fill: #D2E3FC;\n",
              "    }\n",
              "\n",
              "    [theme=dark] .colab-df-convert:hover {\n",
              "      background-color: #434B5C;\n",
              "      box-shadow: 0px 1px 3px 1px rgba(0, 0, 0, 0.15);\n",
              "      filter: drop-shadow(0px 1px 2px rgba(0, 0, 0, 0.3));\n",
              "      fill: #FFFFFF;\n",
              "    }\n",
              "  </style>\n",
              "\n",
              "      <script>\n",
              "        const buttonEl =\n",
              "          document.querySelector('#df-0cf5513d-9ae0-4522-9f36-bd49fa489dac button.colab-df-convert');\n",
              "        buttonEl.style.display =\n",
              "          google.colab.kernel.accessAllowed ? 'block' : 'none';\n",
              "\n",
              "        async function convertToInteractive(key) {\n",
              "          const element = document.querySelector('#df-0cf5513d-9ae0-4522-9f36-bd49fa489dac');\n",
              "          const dataTable =\n",
              "            await google.colab.kernel.invokeFunction('convertToInteractive',\n",
              "                                                     [key], {});\n",
              "          if (!dataTable) return;\n",
              "\n",
              "          const docLinkHtml = 'Like what you see? Visit the ' +\n",
              "            '<a target=\"_blank\" href=https://colab.research.google.com/notebooks/data_table.ipynb>data table notebook</a>'\n",
              "            + ' to learn more about interactive tables.';\n",
              "          element.innerHTML = '';\n",
              "          dataTable['output_type'] = 'display_data';\n",
              "          await google.colab.output.renderOutput(dataTable, element);\n",
              "          const docLink = document.createElement('div');\n",
              "          docLink.innerHTML = docLinkHtml;\n",
              "          element.appendChild(docLink);\n",
              "        }\n",
              "      </script>\n",
              "    </div>\n",
              "  </div>\n",
              "  "
            ]
          },
          "metadata": {},
          "execution_count": 30
        }
      ]
    },
    {
      "cell_type": "code",
      "source": [
        "train_X,test_X,train_Y,test_Y=train_test_split(X,Y,test_size=0.40,random_state=10)"
      ],
      "metadata": {
        "id": "4aMoESXHorPJ"
      },
      "execution_count": null,
      "outputs": []
    },
    {
      "cell_type": "code",
      "source": [
        "print(\"Training set has {} samples.\".format(train_X.shape[0]))\n",
        "print(\"Testing set has {} samples.\".format(test_X.shape[0]))"
      ],
      "metadata": {
        "colab": {
          "base_uri": "https://localhost:8080/"
        },
        "id": "tySVnSSoouck",
        "outputId": "68831a98-1223-4066-a50d-87f22dbd1be0"
      },
      "execution_count": null,
      "outputs": [
        {
          "output_type": "stream",
          "name": "stdout",
          "text": [
            "Training set has 6633 samples.\n",
            "Testing set has 4422 samples.\n"
          ]
        }
      ]
    },
    {
      "cell_type": "markdown",
      "source": [
        "Lets apply Logistic Regression and check its accuracy"
      ],
      "metadata": {
        "id": "xAAt0uTWo0Xh"
      }
    },
    {
      "cell_type": "code",
      "source": [
        "from sklearn.linear_model import LogisticRegression\n",
        "from sklearn.metrics import accuracy_score,confusion_matrix,classification_report"
      ],
      "metadata": {
        "id": "BsLxO9-1o1RN"
      },
      "execution_count": null,
      "outputs": []
    },
    {
      "cell_type": "markdown",
      "source": [
        "Model Training"
      ],
      "metadata": {
        "id": "1UEntzF4o9op"
      }
    },
    {
      "cell_type": "code",
      "source": [
        "logreg=LogisticRegression()\n",
        "model_1=logreg.fit(train_X,train_Y)"
      ],
      "metadata": {
        "colab": {
          "base_uri": "https://localhost:8080/"
        },
        "id": "aSFMMrIMpDOo",
        "outputId": "eaffe98f-1f8f-470b-e5f1-ecf96c113a82"
      },
      "execution_count": null,
      "outputs": [
        {
          "output_type": "stream",
          "name": "stderr",
          "text": [
            "/usr/local/lib/python3.7/dist-packages/sklearn/utils/validation.py:993: DataConversionWarning: A column-vector y was passed when a 1d array was expected. Please change the shape of y to (n_samples, ), for example using ravel().\n",
            "  y = column_or_1d(y, warn=True)\n"
          ]
        }
      ]
    },
    {
      "cell_type": "markdown",
      "source": [
        "Model Testing"
      ],
      "metadata": {
        "id": "9kNoPPA8pINX"
      }
    },
    {
      "cell_type": "code",
      "source": [
        "logreg_predict= model_1.predict(test_X)"
      ],
      "metadata": {
        "id": "S4w_qnMWpLuw"
      },
      "execution_count": null,
      "outputs": []
    },
    {
      "cell_type": "code",
      "source": [
        "print('The accurcy of Logistic Regression Model is : ', 100.0 * accuracy_score(logreg_predict,test_Y))"
      ],
      "metadata": {
        "colab": {
          "base_uri": "https://localhost:8080/"
        },
        "id": "VBhXPAQnpQL7",
        "outputId": "4705f326-64d5-48ea-ae86-1cd74ffef003"
      },
      "execution_count": null,
      "outputs": [
        {
          "output_type": "stream",
          "name": "stdout",
          "text": [
            "The accurcy of Logistic Regression Model is :  92.76345545002262\n"
          ]
        }
      ]
    },
    {
      "cell_type": "code",
      "source": [
        "print(classification_report(logreg_predict,test_Y))"
      ],
      "metadata": {
        "colab": {
          "base_uri": "https://localhost:8080/"
        },
        "id": "gcLBqO-0pVHL",
        "outputId": "8ec6b424-2cad-4a21-dc9d-053fe299c7fc"
      },
      "execution_count": null,
      "outputs": [
        {
          "output_type": "stream",
          "name": "stdout",
          "text": [
            "              precision    recall  f1-score   support\n",
            "\n",
            "          -1       0.90      0.93      0.92      1866\n",
            "           1       0.95      0.93      0.94      2556\n",
            "\n",
            "    accuracy                           0.93      4422\n",
            "   macro avg       0.92      0.93      0.93      4422\n",
            "weighted avg       0.93      0.93      0.93      4422\n",
            "\n"
          ]
        }
      ]
    },
    {
      "cell_type": "code",
      "source": [
        "def plot_confusion_matrix(test_Y, predict_y):\n",
        " C = confusion_matrix(test_Y, predict_y)\n",
        " A =(((C.T)/(C.sum(axis=1))).T)\n",
        " B =(C/C.sum(axis=0))\n",
        " plt.figure(figsize=(20,4))\n",
        " labels = [1,2]\n",
        " cmap=sns.light_palette(\"blue\")\n",
        " plt.subplot(1, 3, 1)\n",
        " sns.heatmap(C, annot=True, cmap=cmap, fmt=\".3f\", xticklabels=labels, yticklabels=labels)\n",
        " plt.xlabel('Predicted Class')\n",
        " plt.ylabel('Original Class')\n",
        " plt.title(\"Confusion matrix\")\n",
        " plt.subplot(1, 3, 2)\n",
        " sns.heatmap(B, annot=True, cmap=cmap, fmt=\".3f\", xticklabels=labels, yticklabels=labels)\n",
        " plt.xlabel('Predicted Class')\n",
        " plt.ylabel('Original Class')\n",
        " plt.title(\"Precision matrix\")\n",
        " plt.subplot(1, 3, 3)\n",
        " sns.heatmap(A, annot=True, cmap=cmap, fmt=\".3f\", xticklabels=labels, yticklabels=labels)\n",
        " plt.xlabel('Predicted Class')\n",
        " plt.ylabel('Original Class')\n",
        " plt.title(\"Recall matrix\")\n",
        " plt.show()"
      ],
      "metadata": {
        "id": "_DcN2mzApbSb"
      },
      "execution_count": null,
      "outputs": []
    },
    {
      "cell_type": "code",
      "source": [
        "plot_confusion_matrix(test_Y, logreg_predict)"
      ],
      "metadata": {
        "colab": {
          "base_uri": "https://localhost:8080/",
          "height": 287
        },
        "id": "q77tgrzWpfWz",
        "outputId": "535ceec7-eb40-4757-af81-f5f3a310e75b"
      },
      "execution_count": null,
      "outputs": [
        {
          "output_type": "display_data",
          "data": {
            "text/plain": [
              "<Figure size 1440x288 with 6 Axes>"
            ],
            "image/png": "[encoded data removed]"
          },
          "metadata": {}
        }
      ]
    },
    {
      "cell_type": "code",
      "source": [
        "from sklearn.metrics import precision_recall_curve\n",
        "from sklearn.metrics import plot_precision_recall_curve\n",
        "from sklearn.metrics import roc_curve\n",
        "from sklearn.metrics import plot_roc_curve\n",
        "\n",
        "plot_roc_curve(model_1,test_X, test_Y)"
      ],
      "metadata": {
        "colab": {
          "base_uri": "https://localhost:8080/",
          "height": 351
        },
        "id": "x2bB-FOmpk4m",
        "outputId": "b402e15e-d480-4b06-9dbb-10a13149d8e6"
      },
      "execution_count": null,
      "outputs": [
        {
          "output_type": "stream",
          "name": "stderr",
          "text": [
            "/usr/local/lib/python3.7/dist-packages/sklearn/utils/deprecation.py:87: FutureWarning: Function plot_roc_curve is deprecated; Function :func:`plot_roc_curve` is deprecated in 1.0 and will be removed in 1.2. Use one of the class methods: :meth:`sklearn.metric.RocCurveDisplay.from_predictions` or :meth:`sklearn.metric.RocCurveDisplay.from_estimator`.\n",
            "  warnings.warn(msg, category=FutureWarning)\n"
          ]
        },
        {
          "output_type": "execute_result",
          "data": {
            "text/plain": [
              "<sklearn.metrics._plot.roc_curve.RocCurveDisplay at 0x7f36462f5b50>"
            ]
          },
          "metadata": {},
          "execution_count": 40
        },
        {
          "output_type": "display_data",
          "data": {
            "text/plain": [
              "<Figure size 432x288 with 1 Axes>"
            ],
            "image/png": "[encoded data removed]"
          },
          "metadata": {}
        }
      ]
    },
    {
      "cell_type": "markdown",
      "source": [
        "Lets apply K-Nearest Neighbors Classifier and check its accuracy"
      ],
      "metadata": {
        "id": "ZkU2YJpgptvT"
      }
    },
    {
      "cell_type": "code",
      "source": [
        "from sklearn.neighbors import KNeighborsClassifier"
      ],
      "metadata": {
        "id": "i42jCNFrpxfi"
      },
      "execution_count": null,
      "outputs": []
    },
    {
      "cell_type": "code",
      "source": [
        "error = []\n",
        "for i in range(1, 30):\n",
        "  knn = KNeighborsClassifier(n_neighbors=i)\n",
        "  knn.fit(train_X, train_Y.values.ravel())\n",
        "  pred_i = knn.predict(test_X)\n",
        "  error.append(np.mean(pred_i != test_Y.values.ravel()))\n",
        "  "
      ],
      "metadata": {
        "id": "g45YMu7gp26y"
      },
      "execution_count": null,
      "outputs": []
    },
    {
      "cell_type": "code",
      "source": [
        "plt.figure(figsize=(12,6))\n",
        "plt.plot(range(1,30), error, color='red', linestyle='dashed', marker='o', markerfacecolor='green', markersize=10)\n",
        "plt.title('Error Rate for K Values')\n",
        "plt.xlabel('K Values')\n",
        "plt.ylabel('Error Rate')"
      ],
      "metadata": {
        "colab": {
          "base_uri": "https://localhost:8080/",
          "height": 421
        },
        "id": "IgV_hZmZp_3S",
        "outputId": "ef58b11f-af3c-42cd-f9db-870def64e5a5"
      },
      "execution_count": null,
      "outputs": [
        {
          "output_type": "execute_result",
          "data": {
            "text/plain": [
              "Text(0, 0.5, 'Error Rate')"
            ]
          },
          "metadata": {},
          "execution_count": 44
        },
        {
          "output_type": "display_data",
          "data": {
            "text/plain": [
              "<Figure size 864x432 with 1 Axes>"
            ],
            "image/png": "[encoded data removed]"
          },
          "metadata": {}
        }
      ]
    },
    {
      "cell_type": "markdown",
      "source": [
        "Model Training"
      ],
      "metadata": {
        "id": "wm9_u8x_qbQI"
      }
    },
    {
      "cell_type": "markdown",
      "source": [
        "KNN Classifier for K = 1"
      ],
      "metadata": {
        "id": "17lu7VgwqfgU"
      }
    },
    {
      "cell_type": "code",
      "source": [
        "knn=KNeighborsClassifier(n_neighbors=1)\n",
        "model_2= knn.fit(train_X,train_Y)"
      ],
      "metadata": {
        "colab": {
          "base_uri": "https://localhost:8080/"
        },
        "id": "_mWwsCZmqkkf",
        "outputId": "772de53a-15c3-4658-cb25-161926021fe3"
      },
      "execution_count": null,
      "outputs": [
        {
          "output_type": "stream",
          "name": "stderr",
          "text": [
            "/usr/local/lib/python3.7/dist-packages/sklearn/neighbors/_classification.py:198: DataConversionWarning: A column-vector y was passed when a 1d array was expected. Please change the shape of y to (n_samples,), for example using ravel().\n",
            "  return self._fit(X, y)\n"
          ]
        }
      ]
    },
    {
      "cell_type": "code",
      "source": [
        "knn_predict=model_2.predict(test_X)"
      ],
      "metadata": {
        "id": "Jwbs6Xvgqnku"
      },
      "execution_count": null,
      "outputs": []
    },
    {
      "cell_type": "code",
      "source": [
        "knn_predict=model_2.predict(test_X)"
      ],
      "metadata": {
        "id": "opE8D0FouAsc"
      },
      "execution_count": null,
      "outputs": []
    },
    {
      "cell_type": "code",
      "source": [
        "print('The accuracy of KNN Model is: ', 100.0 * accuracy_score(knn_predict,test_Y))"
      ],
      "metadata": {
        "colab": {
          "base_uri": "https://localhost:8080/"
        },
        "id": "ngLtHxd3qqxP",
        "outputId": "08d92a1b-f2eb-4fbd-dcd1-e58a741cf07c"
      },
      "execution_count": null,
      "outputs": [
        {
          "output_type": "stream",
          "name": "stdout",
          "text": [
            "The accuracy of KNN Model is:  94.82134780642242\n"
          ]
        }
      ]
    },
    {
      "cell_type": "code",
      "source": [
        "print(classification_report(test_Y,knn_predict))"
      ],
      "metadata": {
        "colab": {
          "base_uri": "https://localhost:8080/"
        },
        "id": "APIIeajYqumq",
        "outputId": "b62a0652-01ff-4c57-895e-7322d1b33b2b"
      },
      "execution_count": null,
      "outputs": [
        {
          "output_type": "stream",
          "name": "stdout",
          "text": [
            "              precision    recall  f1-score   support\n",
            "\n",
            "          -1       0.94      0.94      0.94      1922\n",
            "           1       0.96      0.95      0.95      2500\n",
            "\n",
            "    accuracy                           0.95      4422\n",
            "   macro avg       0.95      0.95      0.95      4422\n",
            "weighted avg       0.95      0.95      0.95      4422\n",
            "\n"
          ]
        }
      ]
    },
    {
      "cell_type": "code",
      "source": [
        "plot_confusion_matrix(test_Y, knn_predict)"
      ],
      "metadata": {
        "colab": {
          "base_uri": "https://localhost:8080/",
          "height": 287
        },
        "id": "DnJj0u1IqyIH",
        "outputId": "859fc2bd-ae74-4c85-c97a-a7717284d5d0"
      },
      "execution_count": null,
      "outputs": [
        {
          "output_type": "display_data",
          "data": {
            "text/plain": [
              "<Figure size 1440x288 with 6 Axes>"
            ],
            "image/png": "[encoded data removed]"
          },
          "metadata": {}
        }
      ]
    },
    {
      "cell_type": "code",
      "source": [
        "plot_roc_curve(model_2,test_X, test_Y)"
      ],
      "metadata": {
        "colab": {
          "base_uri": "https://localhost:8080/",
          "height": 351
        },
        "id": "fL8i8y0Yq09R",
        "outputId": "632892eb-fd14-41b0-81eb-1fc7c811d515"
      },
      "execution_count": null,
      "outputs": [
        {
          "output_type": "stream",
          "name": "stderr",
          "text": [
            "/usr/local/lib/python3.7/dist-packages/sklearn/utils/deprecation.py:87: FutureWarning: Function plot_roc_curve is deprecated; Function :func:`plot_roc_curve` is deprecated in 1.0 and will be removed in 1.2. Use one of the class methods: :meth:`sklearn.metric.RocCurveDisplay.from_predictions` or :meth:`sklearn.metric.RocCurveDisplay.from_estimator`.\n",
            "  warnings.warn(msg, category=FutureWarning)\n"
          ]
        },
        {
          "output_type": "execute_result",
          "data": {
            "text/plain": [
              "<sklearn.metrics._plot.roc_curve.RocCurveDisplay at 0x7f3645eced50>"
            ]
          },
          "metadata": {},
          "execution_count": 51
        },
        {
          "output_type": "display_data",
          "data": {
            "text/plain": [
              "<Figure size 432x288 with 1 Axes>"
            ],
            "image/png": "[encoded data removed]"
          },
          "metadata": {}
        }
      ]
    },
    {
      "cell_type": "markdown",
      "source": [
        "Lets apply Decision Tree Classifier and check its classifier"
      ],
      "metadata": {
        "id": "z_R8Jt-Rq5kx"
      }
    },
    {
      "cell_type": "markdown",
      "source": [
        "A decision tree is a flowchart-like structure in which each internal node represents a \"test\" on an attribute (e.g. whether a coin flip comes up heads or tails), each branch represents the outcome of the test, and each leaf node represents a class label (decision taken after computing all attributes)."
      ],
      "metadata": {
        "id": "4e1vSi9fxcIN"
      }
    },
    {
      "cell_type": "code",
      "source": [
        "from sklearn.tree import DecisionTreeClassifier"
      ],
      "metadata": {
        "id": "ccvam8Q3q60Y"
      },
      "execution_count": null,
      "outputs": []
    },
    {
      "cell_type": "code",
      "source": [
        "dtree=DecisionTreeClassifier()\n",
        "model_3=dtree.fit(train_X,train_Y)"
      ],
      "metadata": {
        "id": "h7JJQ4VzrHg9"
      },
      "execution_count": null,
      "outputs": []
    },
    {
      "cell_type": "code",
      "source": [
        "dtree_predict=model_3.predict(test_X)"
      ],
      "metadata": {
        "id": "oRWv8qlsrKMg"
      },
      "execution_count": null,
      "outputs": []
    },
    {
      "cell_type": "code",
      "source": [
        "print('The accuracy of Decision Tree Classifier is: ', 100.0 * accuracy_score(dtree_predict,test_Y))"
      ],
      "metadata": {
        "colab": {
          "base_uri": "https://localhost:8080/"
        },
        "id": "1VJeWrRbrNkI",
        "outputId": "d34206d5-17d9-4cfb-da85-0af5350a147e"
      },
      "execution_count": null,
      "outputs": [
        {
          "output_type": "stream",
          "name": "stdout",
          "text": [
            "The accuracy of Decision Tree Classifier is:  96.1781999095432\n"
          ]
        }
      ]
    },
    {
      "cell_type": "code",
      "source": [
        "print(classification_report(dtree_predict,test_Y))"
      ],
      "metadata": {
        "colab": {
          "base_uri": "https://localhost:8080/"
        },
        "id": "n9Wtyu79rapX",
        "outputId": "b4be9a29-e059-4581-cb36-44e63ee49064"
      },
      "execution_count": null,
      "outputs": [
        {
          "output_type": "stream",
          "name": "stdout",
          "text": [
            "              precision    recall  f1-score   support\n",
            "\n",
            "          -1       0.96      0.95      0.96      1929\n",
            "           1       0.96      0.97      0.97      2493\n",
            "\n",
            "    accuracy                           0.96      4422\n",
            "   macro avg       0.96      0.96      0.96      4422\n",
            "weighted avg       0.96      0.96      0.96      4422\n",
            "\n"
          ]
        }
      ]
    },
    {
      "cell_type": "code",
      "source": [
        "plot_confusion_matrix(test_Y, dtree_predict)"
      ],
      "metadata": {
        "colab": {
          "base_uri": "https://localhost:8080/",
          "height": 287
        },
        "id": "LpnxOjp4rg2g",
        "outputId": "43a627c1-702c-4a6b-b76c-99f9a817e9fa"
      },
      "execution_count": null,
      "outputs": [
        {
          "output_type": "display_data",
          "data": {
            "text/plain": [
              "<Figure size 1440x288 with 6 Axes>"
            ],
            "image/png": "[encoded data removed]"
          },
          "metadata": {}
        }
      ]
    },
    {
      "cell_type": "code",
      "source": [
        "plot_roc_curve(model_3,test_X, test_Y)"
      ],
      "metadata": {
        "colab": {
          "base_uri": "https://localhost:8080/",
          "height": 351
        },
        "id": "-GK30wFdrll1",
        "outputId": "ef3256b8-dc67-4e51-8daa-c69ba1870491"
      },
      "execution_count": null,
      "outputs": [
        {
          "output_type": "stream",
          "name": "stderr",
          "text": [
            "/usr/local/lib/python3.7/dist-packages/sklearn/utils/deprecation.py:87: FutureWarning: Function plot_roc_curve is deprecated; Function :func:`plot_roc_curve` is deprecated in 1.0 and will be removed in 1.2. Use one of the class methods: :meth:`sklearn.metric.RocCurveDisplay.from_predictions` or :meth:`sklearn.metric.RocCurveDisplay.from_estimator`.\n",
            "  warnings.warn(msg, category=FutureWarning)\n"
          ]
        },
        {
          "output_type": "execute_result",
          "data": {
            "text/plain": [
              "<sklearn.metrics._plot.roc_curve.RocCurveDisplay at 0x7f36459bddd0>"
            ]
          },
          "metadata": {},
          "execution_count": 58
        },
        {
          "output_type": "display_data",
          "data": {
            "text/plain": [
              "<Figure size 432x288 with 1 Axes>"
            ],
            "image/png": "[encoded data removed]"
          },
          "metadata": {}
        }
      ]
    },
    {
      "cell_type": "markdown",
      "source": [
        "Lets apply Random Forest Classifier and check its accuracy"
      ],
      "metadata": {
        "id": "BqUaDLANrp17"
      }
    },
    {
      "cell_type": "markdown",
      "source": [
        "Random forests or random decision forests are an ensemble learning method for classification, regression and other tasks that operates by constructing a multitude of decision trees at training time. For classification tasks, the output of the random forest is the class selected by most trees."
      ],
      "metadata": {
        "id": "HHlsA0Qfx3hA"
      }
    },
    {
      "cell_type": "code",
      "source": [
        "from sklearn.ensemble import RandomForestClassifier"
      ],
      "metadata": {
        "id": "CGyRlrB3rrBG"
      },
      "execution_count": null,
      "outputs": []
    },
    {
      "cell_type": "code",
      "source": [
        "rfc=RandomForestClassifier()\n",
        "model_4=rfc.fit(train_X,train_Y)"
      ],
      "metadata": {
        "colab": {
          "base_uri": "https://localhost:8080/"
        },
        "id": "qRrbd7vBr27-",
        "outputId": "a6d3f3f5-1f7a-4725-8a08-d6d1fc46b4cb"
      },
      "execution_count": null,
      "outputs": [
        {
          "output_type": "stream",
          "name": "stderr",
          "text": [
            "/usr/local/lib/python3.7/dist-packages/ipykernel_launcher.py:2: DataConversionWarning: A column-vector y was passed when a 1d array was expected. Please change the shape of y to (n_samples,), for example using ravel().\n",
            "  \n"
          ]
        }
      ]
    },
    {
      "cell_type": "code",
      "source": [
        "rfc_predict=model_4.predict(test_X)"
      ],
      "metadata": {
        "id": "HuBWPMYer5hj"
      },
      "execution_count": null,
      "outputs": []
    },
    {
      "cell_type": "code",
      "source": [
        "print('The accuracy of Random Forest Classifier is: ' , 100.0 * accuracy_score(rfc_predict,test_Y))"
      ],
      "metadata": {
        "colab": {
          "base_uri": "https://localhost:8080/"
        },
        "id": "d1yfhAZer9Fm",
        "outputId": "3a215a49-c576-47d9-c7ea-b5390f9a23e3"
      },
      "execution_count": null,
      "outputs": [
        {
          "output_type": "stream",
          "name": "stdout",
          "text": [
            "The accuracy of Random Forest Classifier is:  97.08276797829036\n"
          ]
        }
      ]
    },
    {
      "cell_type": "code",
      "source": [
        "print(classification_report(rfc_predict,test_Y))"
      ],
      "metadata": {
        "colab": {
          "base_uri": "https://localhost:8080/"
        },
        "id": "K-5fPkytsAG3",
        "outputId": "e4a21cbd-6f86-4033-82f0-5c0d547b7e3a"
      },
      "execution_count": null,
      "outputs": [
        {
          "output_type": "stream",
          "name": "stdout",
          "text": [
            "              precision    recall  f1-score   support\n",
            "\n",
            "          -1       0.96      0.97      0.97      1889\n",
            "           1       0.98      0.97      0.97      2533\n",
            "\n",
            "    accuracy                           0.97      4422\n",
            "   macro avg       0.97      0.97      0.97      4422\n",
            "weighted avg       0.97      0.97      0.97      4422\n",
            "\n"
          ]
        }
      ]
    },
    {
      "cell_type": "code",
      "source": [
        "plot_confusion_matrix(test_Y, rfc_predict)"
      ],
      "metadata": {
        "colab": {
          "base_uri": "https://localhost:8080/",
          "height": 287
        },
        "id": "Pl3hwpbgsDf4",
        "outputId": "cfc5913d-1ad2-4a66-ca83-e109c190663c"
      },
      "execution_count": null,
      "outputs": [
        {
          "output_type": "display_data",
          "data": {
            "text/plain": [
              "<Figure size 1440x288 with 6 Axes>"
            ],
            "image/png": "[encoded data removed]"
          },
          "metadata": {}
        }
      ]
    },
    {
      "cell_type": "code",
      "source": [
        "plot_roc_curve(model_4,test_X, test_Y)"
      ],
      "metadata": {
        "colab": {
          "base_uri": "https://localhost:8080/",
          "height": 351
        },
        "id": "3bfQGlsrsKON",
        "outputId": "0b9037fd-c282-4f31-99c4-2365a0ed13d3"
      },
      "execution_count": null,
      "outputs": [
        {
          "output_type": "stream",
          "name": "stderr",
          "text": [
            "/usr/local/lib/python3.7/dist-packages/sklearn/utils/deprecation.py:87: FutureWarning: Function plot_roc_curve is deprecated; Function :func:`plot_roc_curve` is deprecated in 1.0 and will be removed in 1.2. Use one of the class methods: :meth:`sklearn.metric.RocCurveDisplay.from_predictions` or :meth:`sklearn.metric.RocCurveDisplay.from_estimator`.\n",
            "  warnings.warn(msg, category=FutureWarning)\n"
          ]
        },
        {
          "output_type": "execute_result",
          "data": {
            "text/plain": [
              "<sklearn.metrics._plot.roc_curve.RocCurveDisplay at 0x7f3646388410>"
            ]
          },
          "metadata": {},
          "execution_count": 65
        },
        {
          "output_type": "display_data",
          "data": {
            "text/plain": [
              "<Figure size 432x288 with 1 Axes>"
            ],
            "image/png": "[encoded data removed]"
          },
          "metadata": {}
        }
      ]
    },
    {
      "cell_type": "markdown",
      "source": [
        "Lets Apply SVM and check its accuracy"
      ],
      "metadata": {
        "id": "gt_1kxLqsNmv"
      }
    },
    {
      "cell_type": "code",
      "source": [
        "from sklearn.svm import SVC"
      ],
      "metadata": {
        "id": "cyfwUP8qsQ1o"
      },
      "execution_count": null,
      "outputs": []
    },
    {
      "cell_type": "code",
      "source": [
        "svc=SVC()\n",
        "model_5=svc.fit(train_X,train_Y)"
      ],
      "metadata": {
        "colab": {
          "base_uri": "https://localhost:8080/"
        },
        "id": "4AUoUsiesVSw",
        "outputId": "749c405a-67ee-4ac5-d7b5-c5e33f0146c9"
      },
      "execution_count": null,
      "outputs": [
        {
          "output_type": "stream",
          "name": "stderr",
          "text": [
            "/usr/local/lib/python3.7/dist-packages/sklearn/utils/validation.py:993: DataConversionWarning: A column-vector y was passed when a 1d array was expected. Please change the shape of y to (n_samples, ), for example using ravel().\n",
            "  y = column_or_1d(y, warn=True)\n"
          ]
        }
      ]
    },
    {
      "cell_type": "code",
      "source": [
        "svm_predict=model_5.predict(test_X)"
      ],
      "metadata": {
        "id": "UCpumiw3sbx3"
      },
      "execution_count": null,
      "outputs": []
    },
    {
      "cell_type": "code",
      "source": [
        "print('The accuracy of SVM Classifier is: ', 100.0 * accuracy_score(svm_predict,test_Y))"
      ],
      "metadata": {
        "colab": {
          "base_uri": "https://localhost:8080/"
        },
        "id": "tMQnoEgEsesR",
        "outputId": "efe258ee-7f8e-40d9-ae5d-a25d29f5ebef"
      },
      "execution_count": null,
      "outputs": [
        {
          "output_type": "stream",
          "name": "stdout",
          "text": [
            "The accuracy of SVM Classifier is:  94.4142921754862\n"
          ]
        }
      ]
    },
    {
      "cell_type": "code",
      "source": [
        "print(classification_report(svm_predict,test_Y))"
      ],
      "metadata": {
        "colab": {
          "base_uri": "https://localhost:8080/"
        },
        "id": "SEyaA5oMshmx",
        "outputId": "475bf6bc-8cf3-4368-9051-34bcf37c4edc"
      },
      "execution_count": null,
      "outputs": [
        {
          "output_type": "stream",
          "name": "stdout",
          "text": [
            "              precision    recall  f1-score   support\n",
            "\n",
            "          -1       0.92      0.95      0.93      1859\n",
            "           1       0.96      0.94      0.95      2563\n",
            "\n",
            "    accuracy                           0.94      4422\n",
            "   macro avg       0.94      0.95      0.94      4422\n",
            "weighted avg       0.94      0.94      0.94      4422\n",
            "\n"
          ]
        }
      ]
    },
    {
      "cell_type": "code",
      "source": [
        "plot_confusion_matrix(test_Y, svm_predict)"
      ],
      "metadata": {
        "colab": {
          "base_uri": "https://localhost:8080/",
          "height": 287
        },
        "id": "l13YGMM4skbh",
        "outputId": "76e9349c-2cb7-448f-a881-42bf22678bd3"
      },
      "execution_count": null,
      "outputs": [
        {
          "output_type": "display_data",
          "data": {
            "text/plain": [
              "<Figure size 1440x288 with 6 Axes>"
            ],
            "image/png": "[encoded data removed]"
          },
          "metadata": {}
        }
      ]
    },
    {
      "cell_type": "code",
      "source": [
        "plot_roc_curve(model_5,test_X, test_Y)"
      ],
      "metadata": {
        "colab": {
          "base_uri": "https://localhost:8080/",
          "height": 351
        },
        "id": "3lF7o7vesp7z",
        "outputId": "ffe2f204-d7c2-4fc4-9c11-d90fd23a4771"
      },
      "execution_count": null,
      "outputs": [
        {
          "output_type": "stream",
          "name": "stderr",
          "text": [
            "/usr/local/lib/python3.7/dist-packages/sklearn/utils/deprecation.py:87: FutureWarning: Function plot_roc_curve is deprecated; Function :func:`plot_roc_curve` is deprecated in 1.0 and will be removed in 1.2. Use one of the class methods: :meth:`sklearn.metric.RocCurveDisplay.from_predictions` or :meth:`sklearn.metric.RocCurveDisplay.from_estimator`.\n",
            "  warnings.warn(msg, category=FutureWarning)\n"
          ]
        },
        {
          "output_type": "execute_result",
          "data": {
            "text/plain": [
              "<sklearn.metrics._plot.roc_curve.RocCurveDisplay at 0x7f3645f2a450>"
            ]
          },
          "metadata": {},
          "execution_count": 72
        },
        {
          "output_type": "display_data",
          "data": {
            "text/plain": [
              "<Figure size 432x288 with 1 Axes>"
            ],
            "image/png": "[encoded data removed]"
          },
          "metadata": {}
        }
      ]
    },
    {
      "cell_type": "code",
      "source": [
        "print('Logistic Regression Accuracy:',100 * accuracy_score(logreg_predict,test_Y))\n",
        "print('K-Nearest Neighbour Accuracy:',100* accuracy_score(knn_predict,test_Y))\n",
        "print('Decision Tree Classifier Accuracy:',100* accuracy_score(dtree_predict,test_Y))\n",
        "print('Random Forest Classifier Accuracy:',100*accuracy_score(rfc_predict,test_Y))\n",
        "print('support Vector Machine Accuracy:',100*accuracy_score(svm_predict,test_Y))\n"
      ],
      "metadata": {
        "colab": {
          "base_uri": "https://localhost:8080/"
        },
        "id": "po-aEN90tw4V",
        "outputId": "e8a8a82f-aa7e-4b14-92d4-36772fa77db5"
      },
      "execution_count": null,
      "outputs": [
        {
          "output_type": "stream",
          "name": "stdout",
          "text": [
            "Logistic Regression Accuracy: 92.76345545002262\n",
            "K-Nearest Neighbour Accuracy: 94.82134780642242\n",
            "Decision Tree Classifier Accuracy: 96.1781999095432\n",
            "Random Forest Classifier Accuracy: 97.08276797829036\n",
            "support Vector Machine Accuracy: 94.4142921754862\n"
          ]
        }
      ]
    },
    {
      "cell_type": "code",
      "source": [
        "objects = ('Logistic Regression','KNN Classifier','support Vector Machine ','Decision Tree Classifier','Random Forest Classifier')\n",
        "y_pos = np.arange(len(objects))\n",
        "performance = [ 92.7860696517413, 93.08005427408412, 94.86657620985979, 95.52238805970149, 96.85662596110357]\n",
        "plt.barh(y_pos, performance, align='center', alpha=1.0)\n",
        "plt.yticks(y_pos, objects)\n",
        "plt.xlabel('Accuracy')\n",
        "plt.xlabel('Model')\n",
        "plt.title('Accuracy per Model')\n",
        "\n",
        "plt.show()\n",
        "plt.savefig('accuracy_per_model.png')"
      ],
      "metadata": {
        "colab": {
          "base_uri": "https://localhost:8080/",
          "height": 312
        },
        "id": "Fy-KwGQIt8AX",
        "outputId": "149b8439-055a-40c1-a6a1-c33fbd5b04f0"
      },
      "execution_count": null,
      "outputs": [
        {
          "output_type": "display_data",
          "data": {
            "text/plain": [
              "<Figure size 432x288 with 1 Axes>"
            ],
            "image/png": "[encoded data removed]"
          },
          "metadata": {}
        },
        {
          "output_type": "display_data",
          "data": {
            "text/plain": [
              "<Figure size 432x288 with 0 Axes>"
            ]
          },
          "metadata": {}
        }
      ]
    },
    {
      "cell_type": "markdown",
      "source": [
        "From all the models we developed , Random Forest accuracy has highest accuracy and followed by Decision Tree."
      ],
      "metadata": {
        "id": "qCGrzTR2t34F"
      }
    }
  ]
}